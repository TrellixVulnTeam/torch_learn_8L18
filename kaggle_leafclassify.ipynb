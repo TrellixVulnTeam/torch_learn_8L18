{
 "cells": [
  {
   "cell_type": "code",
   "execution_count": 26,
   "id": "8d874439-9d94-4a01-b4a1-1c787b8c87a1",
   "metadata": {
    "execution": {
     "iopub.execute_input": "2022-05-21T16:41:46.726858Z",
     "iopub.status.busy": "2022-05-21T16:41:46.725862Z"
    }
   },
   "outputs": [],
   "source": [
    "#叶子分类\n",
    "import pandas as pd\n",
    "import numpy as np\n",
    "\n",
    "import xgboost.sklearn as xgb\n",
    "from sklearn.model_selection import cross_val_score,train_test_split\n",
    "from sklearn.metrics import log_loss\n",
    "from sklearn.preprocessing import LabelBinarizer"
   ]
  },
  {
   "cell_type": "code",
   "execution_count": 27,
   "id": "187448ac-22df-42bc-a16a-3283245b56b2",
   "metadata": {},
   "outputs": [],
   "source": [
    "train = pd.read_csv(\"dataset/leaf_classify/train.csv\")\n",
    "test = pd.read_csv(\"dataset/leaf_classify/test.csv\")"
   ]
  },
  {
   "cell_type": "code",
   "execution_count": 28,
   "outputs": [
    {
     "data": {
      "text/plain": "   id                species   margin1   margin2   margin3   margin4  \\\n0   1            Acer_Opalus  0.007812  0.023438  0.023438  0.003906   \n1   2  Pterocarya_Stenoptera  0.005859  0.000000  0.031250  0.015625   \n2   3   Quercus_Hartwissiana  0.005859  0.009766  0.019531  0.007812   \n3   5        Tilia_Tomentosa  0.000000  0.003906  0.023438  0.005859   \n4   6     Quercus_Variabilis  0.005859  0.003906  0.048828  0.009766   \n\n    margin5   margin6   margin7  margin8  ...  texture55  texture56  \\\n0  0.011719  0.009766  0.027344      0.0  ...   0.007812   0.000000   \n1  0.025391  0.001953  0.019531      0.0  ...   0.000977   0.000000   \n2  0.003906  0.005859  0.068359      0.0  ...   0.154300   0.000000   \n3  0.021484  0.019531  0.023438      0.0  ...   0.000000   0.000977   \n4  0.013672  0.015625  0.005859      0.0  ...   0.096680   0.000000   \n\n   texture57  texture58  texture59  texture60  texture61  texture62  \\\n0   0.002930   0.002930   0.035156        0.0        0.0   0.004883   \n1   0.000000   0.000977   0.023438        0.0        0.0   0.000977   \n2   0.005859   0.000977   0.007812        0.0        0.0   0.000000   \n3   0.000000   0.000000   0.020508        0.0        0.0   0.017578   \n4   0.021484   0.000000   0.000000        0.0        0.0   0.000000   \n\n   texture63  texture64  \n0   0.000000   0.025391  \n1   0.039062   0.022461  \n2   0.020508   0.002930  \n3   0.000000   0.047852  \n4   0.000000   0.031250  \n\n[5 rows x 194 columns]",
      "text/html": "<div>\n<style scoped>\n    .dataframe tbody tr th:only-of-type {\n        vertical-align: middle;\n    }\n\n    .dataframe tbody tr th {\n        vertical-align: top;\n    }\n\n    .dataframe thead th {\n        text-align: right;\n    }\n</style>\n<table border=\"1\" class=\"dataframe\">\n  <thead>\n    <tr style=\"text-align: right;\">\n      <th></th>\n      <th>id</th>\n      <th>species</th>\n      <th>margin1</th>\n      <th>margin2</th>\n      <th>margin3</th>\n      <th>margin4</th>\n      <th>margin5</th>\n      <th>margin6</th>\n      <th>margin7</th>\n      <th>margin8</th>\n      <th>...</th>\n      <th>texture55</th>\n      <th>texture56</th>\n      <th>texture57</th>\n      <th>texture58</th>\n      <th>texture59</th>\n      <th>texture60</th>\n      <th>texture61</th>\n      <th>texture62</th>\n      <th>texture63</th>\n      <th>texture64</th>\n    </tr>\n  </thead>\n  <tbody>\n    <tr>\n      <th>0</th>\n      <td>1</td>\n      <td>Acer_Opalus</td>\n      <td>0.007812</td>\n      <td>0.023438</td>\n      <td>0.023438</td>\n      <td>0.003906</td>\n      <td>0.011719</td>\n      <td>0.009766</td>\n      <td>0.027344</td>\n      <td>0.0</td>\n      <td>...</td>\n      <td>0.007812</td>\n      <td>0.000000</td>\n      <td>0.002930</td>\n      <td>0.002930</td>\n      <td>0.035156</td>\n      <td>0.0</td>\n      <td>0.0</td>\n      <td>0.004883</td>\n      <td>0.000000</td>\n      <td>0.025391</td>\n    </tr>\n    <tr>\n      <th>1</th>\n      <td>2</td>\n      <td>Pterocarya_Stenoptera</td>\n      <td>0.005859</td>\n      <td>0.000000</td>\n      <td>0.031250</td>\n      <td>0.015625</td>\n      <td>0.025391</td>\n      <td>0.001953</td>\n      <td>0.019531</td>\n      <td>0.0</td>\n      <td>...</td>\n      <td>0.000977</td>\n      <td>0.000000</td>\n      <td>0.000000</td>\n      <td>0.000977</td>\n      <td>0.023438</td>\n      <td>0.0</td>\n      <td>0.0</td>\n      <td>0.000977</td>\n      <td>0.039062</td>\n      <td>0.022461</td>\n    </tr>\n    <tr>\n      <th>2</th>\n      <td>3</td>\n      <td>Quercus_Hartwissiana</td>\n      <td>0.005859</td>\n      <td>0.009766</td>\n      <td>0.019531</td>\n      <td>0.007812</td>\n      <td>0.003906</td>\n      <td>0.005859</td>\n      <td>0.068359</td>\n      <td>0.0</td>\n      <td>...</td>\n      <td>0.154300</td>\n      <td>0.000000</td>\n      <td>0.005859</td>\n      <td>0.000977</td>\n      <td>0.007812</td>\n      <td>0.0</td>\n      <td>0.0</td>\n      <td>0.000000</td>\n      <td>0.020508</td>\n      <td>0.002930</td>\n    </tr>\n    <tr>\n      <th>3</th>\n      <td>5</td>\n      <td>Tilia_Tomentosa</td>\n      <td>0.000000</td>\n      <td>0.003906</td>\n      <td>0.023438</td>\n      <td>0.005859</td>\n      <td>0.021484</td>\n      <td>0.019531</td>\n      <td>0.023438</td>\n      <td>0.0</td>\n      <td>...</td>\n      <td>0.000000</td>\n      <td>0.000977</td>\n      <td>0.000000</td>\n      <td>0.000000</td>\n      <td>0.020508</td>\n      <td>0.0</td>\n      <td>0.0</td>\n      <td>0.017578</td>\n      <td>0.000000</td>\n      <td>0.047852</td>\n    </tr>\n    <tr>\n      <th>4</th>\n      <td>6</td>\n      <td>Quercus_Variabilis</td>\n      <td>0.005859</td>\n      <td>0.003906</td>\n      <td>0.048828</td>\n      <td>0.009766</td>\n      <td>0.013672</td>\n      <td>0.015625</td>\n      <td>0.005859</td>\n      <td>0.0</td>\n      <td>...</td>\n      <td>0.096680</td>\n      <td>0.000000</td>\n      <td>0.021484</td>\n      <td>0.000000</td>\n      <td>0.000000</td>\n      <td>0.0</td>\n      <td>0.0</td>\n      <td>0.000000</td>\n      <td>0.000000</td>\n      <td>0.031250</td>\n    </tr>\n  </tbody>\n</table>\n<p>5 rows × 194 columns</p>\n</div>"
     },
     "execution_count": 28,
     "metadata": {},
     "output_type": "execute_result"
    }
   ],
   "source": [
    "train.head()"
   ],
   "metadata": {
    "collapsed": false,
    "pycharm": {
     "name": "#%%\n"
    }
   }
  },
  {
   "cell_type": "code",
   "execution_count": 29,
   "outputs": [],
   "source": [
    "Y_train=train.species\n",
    "id_train=train.id\n",
    "X_train=train.drop(['species','id'],axis=1)\n",
    "classes=np.unique(Y_train)\n",
    "Y_train_bin=LabelBinarizer().fit_transform(Y_train)\n",
    "id_test=test.id\n",
    "X_test=test.drop(['id'],axis=1)"
   ],
   "metadata": {
    "collapsed": false,
    "pycharm": {
     "name": "#%%\n"
    }
   }
  },
  {
   "cell_type": "code",
   "execution_count": 30,
   "outputs": [
    {
     "name": "stdout",
     "output_type": "stream",
     "text": [
      "['Acer_Capillipes' 'Acer_Circinatum' 'Acer_Mono' 'Acer_Opalus'\n",
      " 'Acer_Palmatum' 'Acer_Pictum' 'Acer_Platanoids' 'Acer_Rubrum'\n",
      " 'Acer_Rufinerve' 'Acer_Saccharinum' 'Alnus_Cordata' 'Alnus_Maximowiczii'\n",
      " 'Alnus_Rubra' 'Alnus_Sieboldiana' 'Alnus_Viridis' 'Arundinaria_Simonii'\n",
      " 'Betula_Austrosinensis' 'Betula_Pendula' 'Callicarpa_Bodinieri'\n",
      " 'Castanea_Sativa' 'Celtis_Koraiensis' 'Cercis_Siliquastrum'\n",
      " 'Cornus_Chinensis' 'Cornus_Controversa' 'Cornus_Macrophylla'\n",
      " 'Cotinus_Coggygria' 'Crataegus_Monogyna' 'Cytisus_Battandieri'\n",
      " 'Eucalyptus_Glaucescens' 'Eucalyptus_Neglecta' 'Eucalyptus_Urnigera'\n",
      " 'Fagus_Sylvatica' 'Ginkgo_Biloba' 'Ilex_Aquifolium' 'Ilex_Cornuta'\n",
      " 'Liquidambar_Styraciflua' 'Liriodendron_Tulipifera'\n",
      " 'Lithocarpus_Cleistocarpus' 'Lithocarpus_Edulis' 'Magnolia_Heptapeta'\n",
      " 'Magnolia_Salicifolia' 'Morus_Nigra' 'Olea_Europaea' 'Phildelphus'\n",
      " 'Populus_Adenopoda' 'Populus_Grandidentata' 'Populus_Nigra'\n",
      " 'Prunus_Avium' 'Prunus_X_Shmittii' 'Pterocarya_Stenoptera'\n",
      " 'Quercus_Afares' 'Quercus_Agrifolia' 'Quercus_Alnifolia'\n",
      " 'Quercus_Brantii' 'Quercus_Canariensis' 'Quercus_Castaneifolia'\n",
      " 'Quercus_Cerris' 'Quercus_Chrysolepis' 'Quercus_Coccifera'\n",
      " 'Quercus_Coccinea' 'Quercus_Crassifolia' 'Quercus_Crassipes'\n",
      " 'Quercus_Dolicholepis' 'Quercus_Ellipsoidalis' 'Quercus_Greggii'\n",
      " 'Quercus_Hartwissiana' 'Quercus_Ilex' 'Quercus_Imbricaria'\n",
      " 'Quercus_Infectoria_sub' 'Quercus_Kewensis' 'Quercus_Nigra'\n",
      " 'Quercus_Palustris' 'Quercus_Phellos' 'Quercus_Phillyraeoides'\n",
      " 'Quercus_Pontica' 'Quercus_Pubescens' 'Quercus_Pyrenaica'\n",
      " 'Quercus_Rhysophylla' 'Quercus_Rubra' 'Quercus_Semecarpifolia'\n",
      " 'Quercus_Shumardii' 'Quercus_Suber' 'Quercus_Texana' 'Quercus_Trojana'\n",
      " 'Quercus_Variabilis' 'Quercus_Vulcanica' 'Quercus_x_Hispanica'\n",
      " 'Quercus_x_Turneri' 'Rhododendron_x_Russellianum' 'Salix_Fragilis'\n",
      " 'Salix_Intergra' 'Sorbus_Aria' 'Tilia_Oliveri' 'Tilia_Platyphyllos'\n",
      " 'Tilia_Tomentosa' 'Ulmus_Bergmanniana' 'Viburnum_Tinus'\n",
      " 'Viburnum_x_Rhytidophylloides' 'Zelkova_Serrata']\n"
     ]
    }
   ],
   "source": [
    "lb=LabelBinarizer()\n",
    "lb.fit(Y_train)\n",
    "print(lb.classes_)"
   ],
   "metadata": {
    "collapsed": false,
    "pycharm": {
     "name": "#%%\n"
    }
   }
  },
  {
   "cell_type": "code",
   "execution_count": 31,
   "outputs": [
    {
     "data": {
      "text/plain": "('Number of classes:', 99)"
     },
     "execution_count": 31,
     "metadata": {},
     "output_type": "execute_result"
    }
   ],
   "source": [
    "'Number of classes:',len(lb.classes_)"
   ],
   "metadata": {
    "collapsed": false,
    "pycharm": {
     "name": "#%%\n"
    }
   }
  },
  {
   "cell_type": "code",
   "execution_count": 24,
   "outputs": [],
   "source": [],
   "metadata": {
    "collapsed": false,
    "pycharm": {
     "name": "#%%\n"
    }
   }
  },
  {
   "cell_type": "code",
   "execution_count": 34,
   "outputs": [
    {
     "name": "stderr",
     "output_type": "stream",
     "text": [
      "D:\\ProgramData\\Anaconda3\\envs\\leetcode38\\lib\\site-packages\\xgboost\\sklearn.py:1224: UserWarning: The use of label encoder in XGBClassifier is deprecated and will be removed in a future release. To remove this warning, do the following: 1) Pass option use_label_encoder=False when constructing XGBClassifier object; and 2) Encode your labels (y) as integers starting with 0, i.e. 0, 1, 2, ..., [num_class - 1].\n",
      "  warnings.warn(label_encoder_deprecation_msg, UserWarning)\n"
     ]
    },
    {
     "name": "stdout",
     "output_type": "stream",
     "text": [
      "[10:29:12] WARNING: ..\\src\\learner.cc:1115: Starting in XGBoost 1.3.0, the default evaluation metric used with the objective 'multi:softprob' was changed from 'merror' to 'mlogloss'. Explicitly set eval_metric if you'd like to restore the old behavior.\n"
     ]
    }
   ],
   "source": [
    "xb = xgb.XGBClassifier(n_estimators=500,objective='multi:softprob')\n",
    "model = xb.fit(X_train, Y_train)"
   ],
   "metadata": {
    "collapsed": false,
    "pycharm": {
     "name": "#%%\n"
    }
   }
  },
  {
   "cell_type": "code",
   "execution_count": 35,
   "outputs": [
    {
     "name": "stderr",
     "output_type": "stream",
     "text": [
      "D:\\ProgramData\\Anaconda3\\envs\\leetcode38\\lib\\site-packages\\xgboost\\sklearn.py:1224: UserWarning: The use of label encoder in XGBClassifier is deprecated and will be removed in a future release. To remove this warning, do the following: 1) Pass option use_label_encoder=False when constructing XGBClassifier object; and 2) Encode your labels (y) as integers starting with 0, i.e. 0, 1, 2, ..., [num_class - 1].\n",
      "  warnings.warn(label_encoder_deprecation_msg, UserWarning)\n"
     ]
    },
    {
     "name": "stdout",
     "output_type": "stream",
     "text": [
      "[10:30:16] WARNING: ..\\src\\learner.cc:1115: Starting in XGBoost 1.3.0, the default evaluation metric used with the objective 'multi:softprob' was changed from 'merror' to 'mlogloss'. Explicitly set eval_metric if you'd like to restore the old behavior.\n"
     ]
    },
    {
     "name": "stderr",
     "output_type": "stream",
     "text": [
      "D:\\ProgramData\\Anaconda3\\envs\\leetcode38\\lib\\site-packages\\xgboost\\sklearn.py:1224: UserWarning: The use of label encoder in XGBClassifier is deprecated and will be removed in a future release. To remove this warning, do the following: 1) Pass option use_label_encoder=False when constructing XGBClassifier object; and 2) Encode your labels (y) as integers starting with 0, i.e. 0, 1, 2, ..., [num_class - 1].\n",
      "  warnings.warn(label_encoder_deprecation_msg, UserWarning)\n"
     ]
    },
    {
     "name": "stdout",
     "output_type": "stream",
     "text": [
      "[10:30:22] WARNING: ..\\src\\learner.cc:1115: Starting in XGBoost 1.3.0, the default evaluation metric used with the objective 'multi:softprob' was changed from 'merror' to 'mlogloss'. Explicitly set eval_metric if you'd like to restore the old behavior.\n"
     ]
    },
    {
     "name": "stderr",
     "output_type": "stream",
     "text": [
      "D:\\ProgramData\\Anaconda3\\envs\\leetcode38\\lib\\site-packages\\xgboost\\sklearn.py:1224: UserWarning: The use of label encoder in XGBClassifier is deprecated and will be removed in a future release. To remove this warning, do the following: 1) Pass option use_label_encoder=False when constructing XGBClassifier object; and 2) Encode your labels (y) as integers starting with 0, i.e. 0, 1, 2, ..., [num_class - 1].\n",
      "  warnings.warn(label_encoder_deprecation_msg, UserWarning)\n"
     ]
    },
    {
     "name": "stdout",
     "output_type": "stream",
     "text": [
      "[10:30:30] WARNING: ..\\src\\learner.cc:1115: Starting in XGBoost 1.3.0, the default evaluation metric used with the objective 'multi:softprob' was changed from 'merror' to 'mlogloss'. Explicitly set eval_metric if you'd like to restore the old behavior.\n"
     ]
    },
    {
     "name": "stderr",
     "output_type": "stream",
     "text": [
      "D:\\ProgramData\\Anaconda3\\envs\\leetcode38\\lib\\site-packages\\xgboost\\sklearn.py:1224: UserWarning: The use of label encoder in XGBClassifier is deprecated and will be removed in a future release. To remove this warning, do the following: 1) Pass option use_label_encoder=False when constructing XGBClassifier object; and 2) Encode your labels (y) as integers starting with 0, i.e. 0, 1, 2, ..., [num_class - 1].\n",
      "  warnings.warn(label_encoder_deprecation_msg, UserWarning)\n"
     ]
    },
    {
     "name": "stdout",
     "output_type": "stream",
     "text": [
      "[10:30:36] WARNING: ..\\src\\learner.cc:1115: Starting in XGBoost 1.3.0, the default evaluation metric used with the objective 'multi:softprob' was changed from 'merror' to 'mlogloss'. Explicitly set eval_metric if you'd like to restore the old behavior.\n"
     ]
    },
    {
     "name": "stderr",
     "output_type": "stream",
     "text": [
      "D:\\ProgramData\\Anaconda3\\envs\\leetcode38\\lib\\site-packages\\xgboost\\sklearn.py:1224: UserWarning: The use of label encoder in XGBClassifier is deprecated and will be removed in a future release. To remove this warning, do the following: 1) Pass option use_label_encoder=False when constructing XGBClassifier object; and 2) Encode your labels (y) as integers starting with 0, i.e. 0, 1, 2, ..., [num_class - 1].\n",
      "  warnings.warn(label_encoder_deprecation_msg, UserWarning)\n"
     ]
    },
    {
     "name": "stdout",
     "output_type": "stream",
     "text": [
      "[10:30:43] WARNING: ..\\src\\learner.cc:1115: Starting in XGBoost 1.3.0, the default evaluation metric used with the objective 'multi:softprob' was changed from 'merror' to 'mlogloss'. Explicitly set eval_metric if you'd like to restore the old behavior.\n"
     ]
    },
    {
     "data": {
      "text/plain": "array([0.88383838, 0.90909091, 0.88383838, 0.86868687, 0.84848485])"
     },
     "execution_count": 35,
     "metadata": {},
     "output_type": "execute_result"
    }
   ],
   "source": [
    "cross_val_score(xgb.XGBClassifier(n_estimators=100), X_train, Y_train, cv=5)"
   ],
   "metadata": {
    "collapsed": false,
    "pycharm": {
     "name": "#%%\n"
    }
   }
  },
  {
   "cell_type": "code",
   "execution_count": 36,
   "outputs": [],
   "source": [
    "res=model.predict(X_test)"
   ],
   "metadata": {
    "collapsed": false,
    "pycharm": {
     "name": "#%%\n"
    }
   }
  },
  {
   "cell_type": "code",
   "execution_count": 39,
   "outputs": [
    {
     "data": {
      "text/plain": "array(['Acer_Opalus', 'Pterocarya_Stenoptera', 'Quercus_Hartwissiana',\n       'Tilia_Tomentosa', 'Quercus_Variabilis', 'Magnolia_Salicifolia',\n       'Quercus_Canariensis', 'Quercus_Rubra', 'Quercus_Brantii',\n       'Salix_Fragilis', 'Zelkova_Serrata', 'Betula_Austrosinensis',\n       'Quercus_Pontica', 'Quercus_Afares', 'Quercus_Coccifera',\n       'Fagus_Sylvatica', 'Phildelphus', 'Acer_Palmatum',\n       'Quercus_Pubescens', 'Populus_Adenopoda', 'Quercus_Trojana',\n       'Quercus_Variabilis', 'Alnus_Sieboldiana', 'Quercus_Ilex',\n       'Arundinaria_Simonii', 'Acer_Platanoids', 'Quercus_Phillyraeoides',\n       'Cornus_Chinensis', 'Quercus_Phillyraeoides', 'Fagus_Sylvatica',\n       'Liriodendron_Tulipifera', 'Cytisus_Battandieri',\n       'Tilia_Tomentosa', 'Rhododendron_x_Russellianum', 'Alnus_Rubra',\n       'Eucalyptus_Glaucescens', 'Cercis_Siliquastrum',\n       'Cotinus_Coggygria', 'Celtis_Koraiensis', 'Quercus_Crassifolia',\n       'Quercus_Variabilis', 'Quercus_Hartwissiana', 'Quercus_Kewensis',\n       'Quercus_Coccifera', 'Cornus_Controversa', 'Quercus_Pyrenaica',\n       'Callicarpa_Bodinieri', 'Quercus_Alnifolia', 'Quercus_Canariensis',\n       'Acer_Saccharinum', 'Prunus_X_Shmittii', 'Prunus_Avium',\n       'Quercus_Greggii', 'Quercus_Suber', 'Quercus_Trojana',\n       'Liriodendron_Tulipifera', 'Quercus_Coccifera',\n       'Cercis_Siliquastrum', 'Quercus_Suber', 'Celtis_Koraiensis',\n       'Quercus_Dolicholepis', 'Rhododendron_x_Russellianum',\n       'Ilex_Cornuta', 'Tilia_Oliveri', 'Quercus_Semecarpifolia',\n       'Quercus_Texana', 'Celtis_Koraiensis', 'Ginkgo_Biloba',\n       'Acer_Palmatum', 'Quercus_Variabilis', 'Liriodendron_Tulipifera',\n       'Liquidambar_Styraciflua', 'Quercus_Phellos',\n       'Quercus_Crassifolia', 'Quercus_Palustris', 'Quercus_Phellos',\n       'Quercus_Alnifolia', 'Quercus_Afares', 'Quercus_Canariensis',\n       'Alnus_Maximowiczii', 'Quercus_Agrifolia', 'Callicarpa_Bodinieri',\n       'Prunus_Avium', 'Acer_Pictum', 'Acer_Rufinerve',\n       'Lithocarpus_Cleistocarpus', 'Viburnum_x_Rhytidophylloides',\n       'Celtis_Koraiensis', 'Ilex_Aquifolium', 'Acer_Circinatum',\n       'Quercus_Coccinea', 'Acer_Circinatum', 'Quercus_Cerris',\n       'Acer_Circinatum', 'Acer_Saccharinum', 'Quercus_Chrysolepis',\n       'Celtis_Koraiensis', 'Quercus_Semecarpifolia',\n       'Eucalyptus_Neglecta', 'Betula_Austrosinensis', 'Ginkgo_Biloba',\n       'Quercus_Canariensis', 'Tilia_Platyphyllos', 'Alnus_Cordata',\n       'Populus_Nigra', 'Quercus_Coccinea', 'Quercus_Variabilis',\n       'Quercus_Pyrenaica', 'Arundinaria_Simonii', 'Alnus_Cordata',\n       'Arundinaria_Simonii', 'Acer_Capillipes', 'Quercus_Kewensis',\n       'Acer_Palmatum', 'Quercus_Agrifolia', 'Quercus_Agrifolia',\n       'Tilia_Tomentosa', 'Liriodendron_Tulipifera', 'Magnolia_Heptapeta',\n       'Quercus_Dolicholepis', 'Acer_Mono', 'Cornus_Macrophylla',\n       'Crataegus_Monogyna', 'Liquidambar_Styraciflua',\n       'Cotinus_Coggygria', 'Quercus_x_Turneri', 'Acer_Capillipes',\n       'Quercus_Castaneifolia', 'Ilex_Cornuta', 'Lithocarpus_Edulis',\n       'Acer_Circinatum', 'Populus_Grandidentata', 'Acer_Rubrum',\n       'Tilia_Platyphyllos', 'Quercus_Cerris', 'Lithocarpus_Edulis',\n       'Cercis_Siliquastrum', 'Quercus_Agrifolia', 'Quercus_Pubescens',\n       'Quercus_Suber', 'Quercus_Pontica', 'Ilex_Aquifolium',\n       'Celtis_Koraiensis', 'Lithocarpus_Cleistocarpus',\n       'Acer_Saccharinum', 'Magnolia_Salicifolia', 'Quercus_Crassifolia',\n       'Fagus_Sylvatica', 'Quercus_Trojana', 'Quercus_Afares',\n       'Quercus_Palustris', 'Quercus_Imbricaria', 'Eucalyptus_Urnigera',\n       'Quercus_Ilex', 'Acer_Circinatum', 'Phildelphus',\n       'Quercus_Crassipes', 'Cornus_Controversa', 'Quercus_Hartwissiana',\n       'Quercus_Variabilis', 'Quercus_x_Turneri', 'Populus_Nigra',\n       'Quercus_Chrysolepis', 'Betula_Austrosinensis', 'Acer_Mono',\n       'Eucalyptus_Glaucescens', 'Alnus_Rubra', 'Viburnum_Tinus',\n       'Populus_Adenopoda', 'Quercus_Pyrenaica', 'Eucalyptus_Neglecta',\n       'Quercus_Pubescens', 'Morus_Nigra', 'Quercus_x_Turneri',\n       'Quercus_Imbricaria', 'Quercus_Crassipes', 'Eucalyptus_Urnigera',\n       'Acer_Pictum', 'Alnus_Rubra', 'Quercus_Dolicholepis',\n       'Acer_Opalus', 'Quercus_Trojana', 'Quercus_Suber',\n       'Acer_Platanoids', 'Quercus_Vulcanica', 'Acer_Palmatum',\n       'Lithocarpus_Cleistocarpus', 'Quercus_Chrysolepis',\n       'Quercus_Variabilis', 'Magnolia_Heptapeta', 'Quercus_Palustris',\n       'Quercus_Crassipes', 'Acer_Platanoids', 'Quercus_Pyrenaica',\n       'Alnus_Viridis', 'Fagus_Sylvatica', 'Zelkova_Serrata',\n       'Magnolia_Salicifolia', 'Betula_Pendula', 'Quercus_Agrifolia',\n       'Betula_Austrosinensis', 'Olea_Europaea', 'Quercus_Ellipsoidalis',\n       'Quercus_x_Hispanica', 'Lithocarpus_Cleistocarpus',\n       'Quercus_Kewensis', 'Quercus_x_Hispanica', 'Quercus_Palustris',\n       'Quercus_Shumardii', 'Quercus_Rubra', 'Alnus_Viridis',\n       'Liquidambar_Styraciflua', 'Cotinus_Coggygria', 'Acer_Pictum',\n       'Magnolia_Heptapeta', 'Acer_Rufinerve', 'Acer_Saccharinum',\n       'Crataegus_Monogyna', 'Populus_Adenopoda', 'Quercus_Crassifolia',\n       'Alnus_Sieboldiana', 'Alnus_Viridis', 'Quercus_Rhysophylla',\n       'Alnus_Sieboldiana', 'Quercus_Shumardii', 'Quercus_x_Turneri',\n       'Callicarpa_Bodinieri', 'Quercus_Crassifolia', 'Quercus_Rubra',\n       'Tilia_Oliveri', 'Quercus_Agrifolia', 'Populus_Grandidentata',\n       'Quercus_Rubra', 'Morus_Nigra', 'Quercus_Agrifolia',\n       'Eucalyptus_Urnigera', 'Alnus_Viridis', 'Liquidambar_Styraciflua',\n       'Populus_Nigra', 'Cercis_Siliquastrum', 'Acer_Rufinerve',\n       'Acer_Platanoids', 'Tilia_Oliveri', 'Lithocarpus_Edulis',\n       'Magnolia_Salicifolia', 'Arundinaria_Simonii', 'Ginkgo_Biloba',\n       'Betula_Pendula', 'Tilia_Platyphyllos', 'Quercus_Palustris',\n       'Tilia_Oliveri', 'Cytisus_Battandieri', 'Quercus_Rubra',\n       'Arundinaria_Simonii', 'Castanea_Sativa', 'Quercus_Crassifolia',\n       'Cercis_Siliquastrum', 'Lithocarpus_Edulis',\n       'Liriodendron_Tulipifera', 'Pterocarya_Stenoptera',\n       'Quercus_Pontica', 'Quercus_Imbricaria', 'Ulmus_Bergmanniana',\n       'Fagus_Sylvatica', 'Quercus_Texana', 'Populus_Grandidentata',\n       'Betula_Austrosinensis', 'Quercus_Trojana',\n       'Quercus_Ellipsoidalis', 'Quercus_Shumardii', 'Olea_Europaea',\n       'Cornus_Chinensis', 'Quercus_Pontica', 'Quercus_Brantii',\n       'Arundinaria_Simonii', 'Populus_Adenopoda', 'Prunus_Avium',\n       'Quercus_Chrysolepis', 'Tilia_Tomentosa', 'Quercus_Pyrenaica',\n       'Betula_Pendula', 'Ginkgo_Biloba', 'Cornus_Macrophylla',\n       'Arundinaria_Simonii', 'Tilia_Platyphyllos', 'Cornus_Macrophylla',\n       'Quercus_Shumardii', 'Quercus_Coccinea', 'Populus_Nigra',\n       'Alnus_Rubra', 'Quercus_Agrifolia', 'Quercus_Rhysophylla',\n       'Quercus_Semecarpifolia', 'Quercus_Nigra', 'Quercus_Kewensis',\n       'Betula_Austrosinensis', 'Acer_Mono', 'Quercus_Ellipsoidalis',\n       'Quercus_Trojana', 'Quercus_Castaneifolia', 'Alnus_Rubra',\n       'Quercus_Brantii', 'Acer_Circinatum', 'Quercus_Imbricaria',\n       'Acer_Capillipes', 'Acer_Mono', 'Liriodendron_Tulipifera',\n       'Olea_Europaea', 'Alnus_Cordata', 'Acer_Saccharinum',\n       'Quercus_Alnifolia', 'Quercus_Coccinea', 'Acer_Platanoids',\n       'Cornus_Chinensis', 'Quercus_x_Hispanica', 'Fagus_Sylvatica',\n       'Quercus_Agrifolia', 'Lithocarpus_Cleistocarpus', 'Phildelphus',\n       'Quercus_Pubescens', 'Salix_Intergra', 'Cornus_Macrophylla',\n       'Quercus_x_Hispanica', 'Viburnum_Tinus', 'Populus_Grandidentata',\n       'Ginkgo_Biloba', 'Zelkova_Serrata', 'Liriodendron_Tulipifera',\n       'Quercus_Ilex', 'Prunus_X_Shmittii', 'Quercus_Phillyraeoides',\n       'Quercus_Phillyraeoides', 'Quercus_Semecarpifolia',\n       'Quercus_Cerris', 'Morus_Nigra', 'Cercis_Siliquastrum',\n       'Cotinus_Coggygria', 'Cytisus_Battandieri',\n       'Viburnum_x_Rhytidophylloides', 'Callicarpa_Bodinieri',\n       'Populus_Adenopoda', 'Populus_Grandidentata',\n       'Magnolia_Salicifolia', 'Quercus_Shumardii',\n       'Quercus_Ellipsoidalis', 'Celtis_Koraiensis',\n       'Liquidambar_Styraciflua', 'Acer_Capillipes', 'Acer_Rufinerve',\n       'Cytisus_Battandieri', 'Cotinus_Coggygria',\n       'Liquidambar_Styraciflua', 'Quercus_Coccinea', 'Quercus_Crassipes',\n       'Cercis_Siliquastrum', 'Lithocarpus_Cleistocarpus',\n       'Eucalyptus_Neglecta', 'Acer_Platanoids', 'Castanea_Sativa',\n       'Quercus_Rubra', 'Quercus_Afares', 'Quercus_Canariensis',\n       'Lithocarpus_Cleistocarpus', 'Tilia_Platyphyllos',\n       'Ilex_Aquifolium', 'Populus_Nigra', 'Quercus_Semecarpifolia',\n       'Quercus_Coccinea', 'Eucalyptus_Neglecta', 'Phildelphus',\n       'Acer_Capillipes', 'Cornus_Controversa', 'Betula_Pendula',\n       'Lithocarpus_Edulis', 'Quercus_Ilex', 'Lithocarpus_Edulis',\n       'Salix_Fragilis', 'Betula_Pendula', 'Cotinus_Coggygria',\n       'Fagus_Sylvatica', 'Quercus_Hartwissiana', 'Alnus_Cordata',\n       'Crataegus_Monogyna', 'Quercus_x_Hispanica', 'Quercus_Coccifera',\n       'Olea_Europaea', 'Populus_Nigra', 'Cornus_Macrophylla',\n       'Ulmus_Bergmanniana', 'Tilia_Platyphyllos', 'Acer_Rufinerve',\n       'Quercus_Brantii', 'Ginkgo_Biloba', 'Alnus_Viridis',\n       'Alnus_Cordata', 'Tilia_Tomentosa', 'Acer_Rufinerve',\n       'Acer_Rufinerve', 'Quercus_Greggii', 'Populus_Adenopoda',\n       'Quercus_Pontica', 'Eucalyptus_Urnigera',\n       'Viburnum_x_Rhytidophylloides', 'Cornus_Chinensis',\n       'Alnus_Maximowiczii', 'Quercus_Infectoria_sub', 'Quercus_Cerris',\n       'Salix_Intergra', 'Viburnum_Tinus', 'Betula_Austrosinensis',\n       'Phildelphus', 'Quercus_Chrysolepis', 'Sorbus_Aria',\n       'Cornus_Macrophylla', 'Eucalyptus_Glaucescens', 'Quercus_Texana',\n       'Salix_Intergra', 'Quercus_Greggii', 'Quercus_Crassipes',\n       'Tilia_Oliveri', 'Eucalyptus_Glaucescens', 'Quercus_Variabilis',\n       'Quercus_Nigra', 'Populus_Grandidentata', 'Quercus_Vulcanica',\n       'Ilex_Cornuta', 'Acer_Rubrum', 'Rhododendron_x_Russellianum',\n       'Salix_Fragilis', 'Quercus_Crassipes', 'Crataegus_Monogyna',\n       'Rhododendron_x_Russellianum', 'Morus_Nigra', 'Populus_Nigra',\n       'Acer_Rufinerve', 'Sorbus_Aria', 'Morus_Nigra', 'Alnus_Viridis',\n       'Zelkova_Serrata', 'Eucalyptus_Glaucescens', 'Crataegus_Monogyna',\n       'Liriodendron_Tulipifera', 'Quercus_Nigra', 'Quercus_Pontica',\n       'Acer_Rubrum', 'Quercus_Alnifolia', 'Quercus_Nigra',\n       'Olea_Europaea', 'Quercus_Ilex', 'Cornus_Chinensis',\n       'Alnus_Sieboldiana', 'Populus_Adenopoda', 'Sorbus_Aria',\n       'Quercus_Brantii', 'Cornus_Chinensis', 'Betula_Austrosinensis',\n       'Magnolia_Salicifolia', 'Magnolia_Salicifolia',\n       'Eucalyptus_Glaucescens', 'Quercus_Nigra', 'Acer_Platanoids',\n       'Quercus_Crassifolia', 'Ulmus_Bergmanniana', 'Cornus_Controversa',\n       'Betula_Austrosinensis', 'Quercus_Afares', 'Eucalyptus_Neglecta',\n       'Pterocarya_Stenoptera', 'Acer_Saccharinum',\n       'Callicarpa_Bodinieri', 'Quercus_Castaneifolia',\n       'Quercus_Ellipsoidalis', 'Quercus_Crassifolia', 'Castanea_Sativa',\n       'Eucalyptus_Glaucescens', 'Eucalyptus_Urnigera', 'Fagus_Sylvatica',\n       'Quercus_Vulcanica', 'Quercus_Ilex', 'Rhododendron_x_Russellianum',\n       'Quercus_Ellipsoidalis', 'Quercus_Trojana', 'Quercus_Greggii',\n       'Viburnum_Tinus', 'Alnus_Sieboldiana', 'Ilex_Cornuta',\n       'Cytisus_Battandieri', 'Ulmus_Bergmanniana',\n       'Liriodendron_Tulipifera', 'Quercus_Phellos',\n       'Eucalyptus_Neglecta', 'Sorbus_Aria', 'Cornus_Chinensis',\n       'Quercus_Hartwissiana', 'Quercus_Palustris', 'Quercus_Ilex',\n       'Alnus_Maximowiczii', 'Ginkgo_Biloba', 'Acer_Mono',\n       'Quercus_Pubescens', 'Magnolia_Heptapeta', 'Acer_Pictum',\n       'Lithocarpus_Cleistocarpus', 'Quercus_Imbricaria', 'Quercus_Suber',\n       'Quercus_Castaneifolia', 'Quercus_Crassipes',\n       'Quercus_Chrysolepis', 'Quercus_Suber', 'Quercus_Texana',\n       'Quercus_Ellipsoidalis', 'Quercus_Castaneifolia',\n       'Quercus_Canariensis', 'Liquidambar_Styraciflua',\n       'Quercus_x_Hispanica', 'Cotinus_Coggygria', 'Cornus_Macrophylla',\n       'Viburnum_Tinus', 'Alnus_Cordata', 'Quercus_Coccifera',\n       'Quercus_Coccinea', 'Eucalyptus_Glaucescens', 'Salix_Fragilis',\n       'Quercus_Canariensis', 'Quercus_Alnifolia', 'Quercus_Vulcanica',\n       'Quercus_Infectoria_sub', 'Quercus_Kewensis', 'Acer_Rufinerve',\n       'Magnolia_Heptapeta', 'Ulmus_Bergmanniana', 'Magnolia_Heptapeta',\n       'Quercus_Texana', 'Prunus_X_Shmittii', 'Quercus_Pontica',\n       'Quercus_Alnifolia', 'Quercus_Pontica', 'Quercus_Castaneifolia',\n       'Acer_Saccharinum', 'Prunus_Avium', 'Quercus_Variabilis',\n       'Sorbus_Aria', 'Alnus_Rubra', 'Viburnum_Tinus', 'Quercus_Texana',\n       'Quercus_Greggii', 'Acer_Rubrum', 'Magnolia_Salicifolia',\n       'Quercus_Phillyraeoides', 'Quercus_Rhysophylla',\n       'Alnus_Maximowiczii', 'Liriodendron_Tulipifera',\n       'Quercus_Infectoria_sub', 'Cornus_Controversa',\n       'Eucalyptus_Glaucescens', 'Populus_Nigra', 'Quercus_Pubescens',\n       'Phildelphus', 'Acer_Mono', 'Alnus_Maximowiczii', 'Prunus_Avium',\n       'Quercus_Brantii', 'Quercus_Cerris', 'Quercus_Dolicholepis',\n       'Quercus_Dolicholepis', 'Quercus_Shumardii', 'Quercus_Cerris',\n       'Eucalyptus_Urnigera', 'Acer_Opalus',\n       'Rhododendron_x_Russellianum', 'Lithocarpus_Cleistocarpus',\n       'Ilex_Aquifolium', 'Quercus_Phillyraeoides', 'Quercus_Pyrenaica',\n       'Cercis_Siliquastrum', 'Acer_Pictum', 'Quercus_Pyrenaica',\n       'Quercus_x_Turneri', 'Quercus_Infectoria_sub', 'Quercus_Trojana',\n       'Quercus_Dolicholepis', 'Quercus_Chrysolepis', 'Prunus_Avium',\n       'Castanea_Sativa', 'Rhododendron_x_Russellianum', 'Viburnum_Tinus',\n       'Olea_Europaea', 'Cornus_Controversa', 'Populus_Adenopoda',\n       'Quercus_x_Turneri', 'Quercus_Texana', 'Pterocarya_Stenoptera',\n       'Quercus_Ellipsoidalis', 'Cornus_Macrophylla', 'Tilia_Tomentosa',\n       'Quercus_Kewensis', 'Quercus_Canariensis', 'Acer_Pictum',\n       'Quercus_Semecarpifolia', 'Phildelphus', 'Alnus_Rubra',\n       'Quercus_Afares', 'Acer_Pictum', 'Quercus_Alnifolia',\n       'Tilia_Oliveri', 'Acer_Palmatum', 'Quercus_Variabilis',\n       'Acer_Circinatum', 'Ilex_Aquifolium', 'Pterocarya_Stenoptera',\n       'Crataegus_Monogyna', 'Callicarpa_Bodinieri', 'Populus_Adenopoda',\n       'Alnus_Sieboldiana', 'Cornus_Macrophylla',\n       'Quercus_Phillyraeoides', 'Salix_Fragilis', 'Quercus_Rubra',\n       'Quercus_Imbricaria', 'Morus_Nigra', 'Alnus_Maximowiczii',\n       'Populus_Nigra', 'Prunus_Avium', 'Quercus_Kewensis',\n       'Acer_Capillipes', 'Callicarpa_Bodinieri', 'Zelkova_Serrata',\n       'Populus_Adenopoda', 'Quercus_Vulcanica', 'Eucalyptus_Neglecta',\n       'Quercus_Brantii', 'Acer_Circinatum', 'Populus_Grandidentata',\n       'Acer_Opalus', 'Acer_Saccharinum', 'Alnus_Sieboldiana',\n       'Acer_Mono', 'Quercus_Ilex', 'Quercus_Coccinea',\n       'Quercus_Semecarpifolia', 'Acer_Platanoids', 'Betula_Pendula',\n       'Phildelphus', 'Quercus_Trojana', 'Crataegus_Monogyna',\n       'Acer_Circinatum', 'Alnus_Rubra', 'Pterocarya_Stenoptera',\n       'Quercus_Palustris', 'Salix_Fragilis', 'Quercus_Coccifera',\n       'Tilia_Platyphyllos', 'Magnolia_Heptapeta', 'Olea_Europaea',\n       'Arundinaria_Simonii', 'Lithocarpus_Edulis',\n       'Quercus_Castaneifolia', 'Arundinaria_Simonii',\n       'Tilia_Platyphyllos', 'Acer_Palmatum', 'Salix_Intergra',\n       'Rhododendron_x_Russellianum', 'Quercus_Castaneifolia',\n       'Magnolia_Salicifolia', 'Quercus_Castaneifolia', 'Betula_Pendula',\n       'Ilex_Cornuta', 'Tilia_Tomentosa', 'Quercus_Chrysolepis',\n       'Tilia_Oliveri', 'Quercus_Suber', 'Crataegus_Monogyna',\n       'Quercus_Crassifolia', 'Salix_Fragilis', 'Pterocarya_Stenoptera',\n       'Salix_Fragilis', 'Eucalyptus_Urnigera', 'Quercus_Hartwissiana',\n       'Quercus_Coccifera', 'Acer_Palmatum', 'Castanea_Sativa',\n       'Acer_Palmatum', 'Quercus_Pyrenaica', 'Quercus_Pontica',\n       'Quercus_Palustris', 'Cercis_Siliquastrum', 'Quercus_Canariensis',\n       'Alnus_Sieboldiana', 'Betula_Austrosinensis', 'Quercus_Phellos',\n       'Quercus_Infectoria_sub', 'Quercus_Dolicholepis',\n       'Quercus_Crassipes', 'Cotinus_Coggygria', 'Quercus_Phellos',\n       'Acer_Rubrum', 'Alnus_Rubra', 'Callicarpa_Bodinieri',\n       'Quercus_Rhysophylla', 'Salix_Intergra', 'Quercus_Dolicholepis',\n       'Alnus_Viridis', 'Acer_Opalus', 'Quercus_Rubra',\n       'Quercus_Hartwissiana', 'Lithocarpus_Cleistocarpus',\n       'Cytisus_Battandieri', 'Quercus_Afares', 'Ulmus_Bergmanniana',\n       'Zelkova_Serrata', 'Quercus_Crassifolia', 'Quercus_Phellos',\n       'Quercus_Coccifera', 'Lithocarpus_Edulis', 'Quercus_x_Turneri',\n       'Tilia_Platyphyllos', 'Castanea_Sativa', 'Acer_Rubrum',\n       'Quercus_Trojana', 'Quercus_Afares', 'Acer_Opalus', 'Sorbus_Aria',\n       'Quercus_Rhysophylla', 'Acer_Rubrum', 'Quercus_Greggii',\n       'Quercus_Crassipes', 'Quercus_Kewensis', 'Cornus_Controversa',\n       'Quercus_Pyrenaica', 'Quercus_Hartwissiana', 'Prunus_X_Shmittii',\n       'Morus_Nigra', 'Tilia_Oliveri', 'Celtis_Koraiensis', 'Sorbus_Aria',\n       'Callicarpa_Bodinieri', 'Quercus_Nigra', 'Acer_Saccharinum',\n       'Acer_Saccharinum', 'Eucalyptus_Neglecta', 'Quercus_Vulcanica',\n       'Quercus_Imbricaria', 'Acer_Capillipes', 'Liquidambar_Styraciflua',\n       'Zelkova_Serrata', 'Sorbus_Aria', 'Salix_Intergra',\n       'Fagus_Sylvatica', 'Quercus_Brantii', 'Magnolia_Heptapeta',\n       'Cornus_Macrophylla', 'Quercus_Vulcanica', 'Viburnum_Tinus',\n       'Betula_Pendula', 'Acer_Rubrum', 'Alnus_Maximowiczii',\n       'Viburnum_Tinus', 'Magnolia_Heptapeta', 'Quercus_Cerris',\n       'Salix_Intergra', 'Quercus_Semecarpifolia',\n       'Populus_Grandidentata', 'Quercus_Greggii',\n       'Viburnum_x_Rhytidophylloides', 'Morus_Nigra', 'Castanea_Sativa',\n       'Quercus_Pontica', 'Alnus_Maximowiczii', 'Alnus_Cordata',\n       'Quercus_Dolicholepis', 'Ulmus_Bergmanniana',\n       'Eucalyptus_Glaucescens', 'Viburnum_Tinus', 'Alnus_Cordata',\n       'Acer_Rubrum', 'Quercus_Infectoria_sub', 'Acer_Rubrum',\n       'Tilia_Platyphyllos', 'Ilex_Cornuta', 'Olea_Europaea',\n       'Quercus_Infectoria_sub', 'Morus_Nigra', 'Alnus_Viridis',\n       'Cornus_Chinensis', 'Quercus_Coccifera', 'Alnus_Rubra',\n       'Quercus_Palustris', 'Cytisus_Battandieri', 'Zelkova_Serrata',\n       'Quercus_Phellos', 'Sorbus_Aria', 'Acer_Opalus', 'Phildelphus',\n       'Castanea_Sativa', 'Quercus_Crassipes', 'Quercus_Pubescens',\n       'Celtis_Koraiensis', 'Quercus_Suber', 'Quercus_Ellipsoidalis',\n       'Quercus_Imbricaria', 'Quercus_Cerris', 'Crataegus_Monogyna',\n       'Prunus_Avium', 'Alnus_Maximowiczii', 'Fagus_Sylvatica',\n       'Quercus_Chrysolepis', 'Quercus_Dolicholepis', 'Quercus_Ilex',\n       'Castanea_Sativa', 'Quercus_Pubescens',\n       'Viburnum_x_Rhytidophylloides', 'Tilia_Tomentosa',\n       'Alnus_Sieboldiana', 'Quercus_Pubescens', 'Ulmus_Bergmanniana',\n       'Ginkgo_Biloba', 'Quercus_Afares', 'Viburnum_x_Rhytidophylloides',\n       'Quercus_Alnifolia', 'Quercus_x_Turneri', 'Ginkgo_Biloba',\n       'Acer_Opalus', 'Prunus_Avium', 'Quercus_Rhysophylla',\n       'Prunus_X_Shmittii', 'Ilex_Aquifolium', 'Quercus_Phillyraeoides',\n       'Quercus_Greggii', 'Pterocarya_Stenoptera',\n       'Quercus_Infectoria_sub', 'Phildelphus', 'Tilia_Tomentosa',\n       'Quercus_Rhysophylla', 'Quercus_Infectoria_sub', 'Prunus_Avium',\n       'Quercus_Texana', 'Acer_Mono', 'Eucalyptus_Urnigera',\n       'Cornus_Controversa', 'Ilex_Aquifolium', 'Ilex_Cornuta',\n       'Quercus_Ilex', 'Ilex_Aquifolium', 'Liquidambar_Styraciflua',\n       'Rhododendron_x_Russellianum', 'Quercus_Infectoria_sub',\n       'Cytisus_Battandieri', 'Quercus_x_Turneri', 'Quercus_Canariensis',\n       'Quercus_Semecarpifolia', 'Ilex_Cornuta', 'Quercus_Imbricaria',\n       'Quercus_Hartwissiana', 'Callicarpa_Bodinieri', 'Acer_Palmatum',\n       'Crataegus_Monogyna', 'Eucalyptus_Urnigera', 'Quercus_Alnifolia',\n       'Quercus_x_Hispanica', 'Acer_Capillipes', 'Eucalyptus_Neglecta',\n       'Quercus_Shumardii', 'Quercus_Imbricaria', 'Ulmus_Bergmanniana',\n       'Magnolia_Heptapeta', 'Cotinus_Coggygria', 'Quercus_Nigra',\n       'Quercus_Coccifera', 'Liquidambar_Styraciflua',\n       'Cytisus_Battandieri', 'Betula_Pendula', 'Lithocarpus_Edulis',\n       'Sorbus_Aria', 'Alnus_Sieboldiana', 'Cornus_Controversa',\n       'Quercus_Rhysophylla', 'Quercus_Semecarpifolia',\n       'Quercus_Rhysophylla', 'Cornus_Chinensis', 'Pterocarya_Stenoptera',\n       'Zelkova_Serrata', 'Prunus_X_Shmittii', 'Populus_Nigra',\n       'Prunus_X_Shmittii', 'Acer_Pictum', 'Quercus_Ellipsoidalis',\n       'Viburnum_x_Rhytidophylloides', 'Quercus_Shumardii',\n       'Quercus_Brantii', 'Celtis_Koraiensis', 'Cotinus_Coggygria',\n       'Quercus_Rubra', 'Alnus_Cordata', 'Quercus_Hartwissiana',\n       'Ilex_Aquifolium', 'Morus_Nigra', 'Quercus_Vulcanica',\n       'Salix_Intergra', 'Zelkova_Serrata',\n       'Viburnum_x_Rhytidophylloides', 'Quercus_Palustris',\n       'Ulmus_Bergmanniana', 'Quercus_Alnifolia', 'Acer_Opalus',\n       'Eucalyptus_Neglecta', 'Quercus_Kewensis', 'Quercus_Agrifolia',\n       'Quercus_Nigra', 'Cytisus_Battandieri', 'Cornus_Chinensis',\n       'Ilex_Cornuta', 'Acer_Platanoids', 'Prunus_X_Shmittii',\n       'Quercus_Phellos', 'Cercis_Siliquastrum', 'Salix_Fragilis',\n       'Betula_Pendula', 'Viburnum_x_Rhytidophylloides',\n       'Quercus_Phellos', 'Quercus_Shumardii', 'Alnus_Cordata',\n       'Quercus_Chrysolepis', 'Quercus_Greggii', 'Tilia_Oliveri',\n       'Lithocarpus_Edulis', 'Arundinaria_Simonii',\n       'Quercus_Phillyraeoides', 'Quercus_x_Turneri',\n       'Quercus_Phillyraeoides', 'Prunus_X_Shmittii', 'Olea_Europaea',\n       'Quercus_Texana', 'Ilex_Aquifolium', 'Quercus_Cerris',\n       'Acer_Opalus', 'Olea_Europaea', 'Acer_Circinatum',\n       'Quercus_Brantii', 'Quercus_Castaneifolia', 'Salix_Intergra',\n       'Castanea_Sativa', 'Acer_Platanoids', 'Eucalyptus_Urnigera',\n       'Quercus_x_Hispanica', 'Quercus_Greggii', 'Pterocarya_Stenoptera',\n       'Acer_Mono', 'Acer_Rufinerve', 'Populus_Grandidentata',\n       'Quercus_Pyrenaica', 'Tilia_Oliveri', 'Acer_Capillipes',\n       'Cornus_Controversa', 'Quercus_Kewensis', 'Quercus_Coccinea',\n       'Quercus_Shumardii', 'Salix_Intergra', 'Ginkgo_Biloba',\n       'Acer_Pictum', 'Quercus_Coccinea', 'Quercus_Vulcanica',\n       'Salix_Fragilis', 'Tilia_Tomentosa', 'Populus_Grandidentata',\n       'Prunus_X_Shmittii', 'Quercus_x_Hispanica', 'Quercus_Suber',\n       'Alnus_Viridis', 'Acer_Palmatum', 'Quercus_Rhysophylla',\n       'Quercus_Cerris', 'Quercus_Texana', 'Acer_Mono',\n       'Quercus_Vulcanica', 'Quercus_Nigra',\n       'Rhododendron_x_Russellianum', 'Acer_Capillipes',\n       'Quercus_Pubescens', 'Alnus_Viridis', 'Quercus_x_Hispanica',\n       'Quercus_Suber', 'Viburnum_x_Rhytidophylloides', 'Quercus_Nigra',\n       'Quercus_Phellos', 'Ilex_Cornuta', 'Magnolia_Salicifolia',\n       'Acer_Pictum', 'Alnus_Maximowiczii', 'Quercus_Rubra',\n       'Quercus_Afares'], dtype='<U28')"
     },
     "execution_count": 39,
     "metadata": {},
     "output_type": "execute_result"
    }
   ],
   "source": [
    "lb.inverse_transform(Y_train_bin)"
   ],
   "metadata": {
    "collapsed": false,
    "pycharm": {
     "name": "#%%\n"
    }
   }
  },
  {
   "cell_type": "code",
   "execution_count": 41,
   "outputs": [
    {
     "data": {
      "text/plain": "array(['Acer_Capillipes', 'Acer_Circinatum', 'Acer_Mono', 'Acer_Opalus',\n       'Acer_Palmatum', 'Acer_Pictum', 'Acer_Platanoids', 'Acer_Rubrum',\n       'Acer_Rufinerve', 'Acer_Saccharinum', 'Alnus_Cordata',\n       'Alnus_Maximowiczii', 'Alnus_Rubra', 'Alnus_Sieboldiana',\n       'Alnus_Viridis', 'Arundinaria_Simonii', 'Betula_Austrosinensis',\n       'Betula_Pendula', 'Callicarpa_Bodinieri', 'Castanea_Sativa',\n       'Celtis_Koraiensis', 'Cercis_Siliquastrum', 'Cornus_Chinensis',\n       'Cornus_Controversa', 'Cornus_Macrophylla', 'Cotinus_Coggygria',\n       'Crataegus_Monogyna', 'Cytisus_Battandieri',\n       'Eucalyptus_Glaucescens', 'Eucalyptus_Neglecta',\n       'Eucalyptus_Urnigera', 'Fagus_Sylvatica', 'Ginkgo_Biloba',\n       'Ilex_Aquifolium', 'Ilex_Cornuta', 'Liquidambar_Styraciflua',\n       'Liriodendron_Tulipifera', 'Lithocarpus_Cleistocarpus',\n       'Lithocarpus_Edulis', 'Magnolia_Heptapeta', 'Magnolia_Salicifolia',\n       'Morus_Nigra', 'Olea_Europaea', 'Phildelphus', 'Populus_Adenopoda',\n       'Populus_Grandidentata', 'Populus_Nigra', 'Prunus_Avium',\n       'Prunus_X_Shmittii', 'Pterocarya_Stenoptera', 'Quercus_Afares',\n       'Quercus_Agrifolia', 'Quercus_Alnifolia', 'Quercus_Brantii',\n       'Quercus_Canariensis', 'Quercus_Castaneifolia', 'Quercus_Cerris',\n       'Quercus_Chrysolepis', 'Quercus_Coccifera', 'Quercus_Coccinea',\n       'Quercus_Crassifolia', 'Quercus_Crassipes', 'Quercus_Dolicholepis',\n       'Quercus_Ellipsoidalis', 'Quercus_Greggii', 'Quercus_Hartwissiana',\n       'Quercus_Ilex', 'Quercus_Imbricaria', 'Quercus_Infectoria_sub',\n       'Quercus_Kewensis', 'Quercus_Nigra', 'Quercus_Palustris',\n       'Quercus_Phellos', 'Quercus_Phillyraeoides', 'Quercus_Pontica',\n       'Quercus_Pubescens', 'Quercus_Pyrenaica', 'Quercus_Rhysophylla',\n       'Quercus_Rubra', 'Quercus_Semecarpifolia', 'Quercus_Shumardii',\n       'Quercus_Suber', 'Quercus_Texana', 'Quercus_Trojana',\n       'Quercus_Variabilis', 'Quercus_Vulcanica', 'Quercus_x_Hispanica',\n       'Quercus_x_Turneri', 'Rhododendron_x_Russellianum',\n       'Salix_Fragilis', 'Salix_Intergra', 'Sorbus_Aria', 'Tilia_Oliveri',\n       'Tilia_Platyphyllos', 'Tilia_Tomentosa', 'Ulmus_Bergmanniana',\n       'Viburnum_Tinus', 'Viburnum_x_Rhytidophylloides',\n       'Zelkova_Serrata'], dtype=object)"
     },
     "execution_count": 41,
     "metadata": {},
     "output_type": "execute_result"
    }
   ],
   "source": [
    "probas= model.predict_proba(X_test)\n",
    "xb.classes_"
   ],
   "metadata": {
    "collapsed": false,
    "pycharm": {
     "name": "#%%\n"
    }
   }
  },
  {
   "cell_type": "code",
   "execution_count": 44,
   "outputs": [
    {
     "data": {
      "text/plain": "numpy.ndarray"
     },
     "execution_count": 44,
     "metadata": {},
     "output_type": "execute_result"
    }
   ],
   "source": [
    "type(id_test.values)"
   ],
   "metadata": {
    "collapsed": false,
    "pycharm": {
     "name": "#%%\n"
    }
   }
  },
  {
   "cell_type": "code",
   "execution_count": 45,
   "outputs": [],
   "source": [
    "result = pd.DataFrame(index=id_test.values, columns=xb.classes_, data=probas)\n",
    "result.to_csv(\"./dataset/leaf_classify/xgb_benchmark.csv\", index_label='id')"
   ],
   "metadata": {
    "collapsed": false,
    "pycharm": {
     "name": "#%%\n"
    }
   }
  },
  {
   "cell_type": "code",
   "execution_count": null,
   "outputs": [],
   "source": [],
   "metadata": {
    "collapsed": false,
    "pycharm": {
     "name": "#%%\n"
    }
   }
  }
 ],
 "metadata": {
  "kernelspec": {
   "display_name": "Python 3 (ipykernel)",
   "language": "python",
   "name": "python3"
  },
  "language_info": {
   "codemirror_mode": {
    "name": "ipython",
    "version": 3
   },
   "file_extension": ".py",
   "mimetype": "text/x-python",
   "name": "python",
   "nbconvert_exporter": "python",
   "pygments_lexer": "ipython3",
   "version": "3.9.12"
  }
 },
 "nbformat": 4,
 "nbformat_minor": 5
}