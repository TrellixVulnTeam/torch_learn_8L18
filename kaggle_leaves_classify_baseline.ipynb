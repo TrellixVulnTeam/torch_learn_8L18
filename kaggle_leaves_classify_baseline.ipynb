{
 "cells": [
  {
   "cell_type": "code",
   "execution_count": 20,
   "id": "bbe68f1d-188f-4e62-b698-5ac3454dca59",
   "metadata": {
    "execution": {
     "iopub.execute_input": "2022-05-23T14:43:41.555397Z",
     "iopub.status.busy": "2022-05-23T14:43:41.554503Z",
     "iopub.status.idle": "2022-05-23T14:43:41.562785Z",
     "shell.execute_reply": "2022-05-23T14:43:41.561806Z",
     "shell.execute_reply.started": "2022-05-23T14:43:41.555333Z"
    },
    "tags": []
   },
   "outputs": [],
   "source": [
    "import os\n",
    "import time\n",
    "import numpy as np\n",
    "import pandas as pd\n",
    "import torch\n",
    "from PIL import Image\n",
    "from torch import nn\n",
    "from torch.utils.data import Dataset\n",
    "from torchvision import transforms, models\n",
    "from tqdm import tqdm"
   ]
  },
  {
   "cell_type": "code",
   "execution_count": 21,
   "id": "54d93df5-314b-455a-94fc-006761dba52b",
   "metadata": {
    "execution": {
     "iopub.execute_input": "2022-05-23T14:43:42.491580Z",
     "iopub.status.busy": "2022-05-23T14:43:42.491262Z",
     "iopub.status.idle": "2022-05-23T14:43:42.536067Z",
     "shell.execute_reply": "2022-05-23T14:43:42.535392Z",
     "shell.execute_reply.started": "2022-05-23T14:43:42.491552Z"
    },
    "tags": []
   },
   "outputs": [
    {
     "data": {
      "text/html": [
       "<div>\n",
       "<style scoped>\n",
       "    .dataframe tbody tr th:only-of-type {\n",
       "        vertical-align: middle;\n",
       "    }\n",
       "\n",
       "    .dataframe tbody tr th {\n",
       "        vertical-align: top;\n",
       "    }\n",
       "\n",
       "    .dataframe thead th {\n",
       "        text-align: right;\n",
       "    }\n",
       "</style>\n",
       "<table border=\"1\" class=\"dataframe\">\n",
       "  <thead>\n",
       "    <tr style=\"text-align: right;\">\n",
       "      <th></th>\n",
       "      <th>image</th>\n",
       "    </tr>\n",
       "  </thead>\n",
       "  <tbody>\n",
       "    <tr>\n",
       "      <th>0</th>\n",
       "      <td>images/18353.jpg</td>\n",
       "    </tr>\n",
       "    <tr>\n",
       "      <th>1</th>\n",
       "      <td>images/18354.jpg</td>\n",
       "    </tr>\n",
       "    <tr>\n",
       "      <th>2</th>\n",
       "      <td>images/18355.jpg</td>\n",
       "    </tr>\n",
       "    <tr>\n",
       "      <th>3</th>\n",
       "      <td>images/18356.jpg</td>\n",
       "    </tr>\n",
       "    <tr>\n",
       "      <th>4</th>\n",
       "      <td>images/18357.jpg</td>\n",
       "    </tr>\n",
       "    <tr>\n",
       "      <th>...</th>\n",
       "      <td>...</td>\n",
       "    </tr>\n",
       "    <tr>\n",
       "      <th>8795</th>\n",
       "      <td>images/27148.jpg</td>\n",
       "    </tr>\n",
       "    <tr>\n",
       "      <th>8796</th>\n",
       "      <td>images/27149.jpg</td>\n",
       "    </tr>\n",
       "    <tr>\n",
       "      <th>8797</th>\n",
       "      <td>images/27150.jpg</td>\n",
       "    </tr>\n",
       "    <tr>\n",
       "      <th>8798</th>\n",
       "      <td>images/27151.jpg</td>\n",
       "    </tr>\n",
       "    <tr>\n",
       "      <th>8799</th>\n",
       "      <td>images/27152.jpg</td>\n",
       "    </tr>\n",
       "  </tbody>\n",
       "</table>\n",
       "<p>8800 rows × 1 columns</p>\n",
       "</div>"
      ],
      "text/plain": [
       "                 image\n",
       "0     images/18353.jpg\n",
       "1     images/18354.jpg\n",
       "2     images/18355.jpg\n",
       "3     images/18356.jpg\n",
       "4     images/18357.jpg\n",
       "...                ...\n",
       "8795  images/27148.jpg\n",
       "8796  images/27149.jpg\n",
       "8797  images/27150.jpg\n",
       "8798  images/27151.jpg\n",
       "8799  images/27152.jpg\n",
       "\n",
       "[8800 rows x 1 columns]"
      ]
     },
     "execution_count": 21,
     "metadata": {},
     "output_type": "execute_result"
    }
   ],
   "source": [
    "labels_dataframe = pd.read_csv('./dataset/classify_leaves/train.csv')\n",
    "# labels_dataframe.head(5)\n",
    "labels_test=pd.read_csv('./dataset/classify_leaves/test.csv')\n",
    "labels_test"
   ]
  },
  {
   "cell_type": "code",
   "execution_count": 22,
   "id": "f0d95dc3-49d7-470c-9850-43ef94b2a5af",
   "metadata": {
    "execution": {
     "iopub.execute_input": "2022-05-23T14:43:47.442808Z",
     "iopub.status.busy": "2022-05-23T14:43:47.442478Z",
     "iopub.status.idle": "2022-05-23T14:43:47.449197Z",
     "shell.execute_reply": "2022-05-23T14:43:47.448505Z",
     "shell.execute_reply.started": "2022-05-23T14:43:47.442783Z"
    },
    "tags": []
   },
   "outputs": [
    {
     "data": {
      "text/plain": [
       "array(['images/2.jpg', 'images/3.jpg', 'images/4.jpg', 'images/5.jpg',\n",
       "       'images/6.jpg', 'images/7.jpg', 'images/8.jpg', 'images/9.jpg'],\n",
       "      dtype=object)"
      ]
     },
     "execution_count": 22,
     "metadata": {},
     "output_type": "execute_result"
    }
   ],
   "source": [
    "np.asarray(labels_dataframe.iloc[2:10, 0])"
   ]
  },
  {
   "cell_type": "code",
   "execution_count": 23,
   "id": "d8f3cb97-3d4c-4498-a028-e394a9549f0b",
   "metadata": {
    "execution": {
     "iopub.execute_input": "2022-05-23T14:43:47.954816Z",
     "iopub.status.busy": "2022-05-23T14:43:47.953854Z",
     "iopub.status.idle": "2022-05-23T14:43:48.065856Z",
     "shell.execute_reply": "2022-05-23T14:43:48.065328Z",
     "shell.execute_reply.started": "2022-05-23T14:43:47.954761Z"
    },
    "tags": []
   },
   "outputs": [
    {
     "data": {
      "text/html": [
       "<div>\n",
       "<style scoped>\n",
       "    .dataframe tbody tr th:only-of-type {\n",
       "        vertical-align: middle;\n",
       "    }\n",
       "\n",
       "    .dataframe tbody tr th {\n",
       "        vertical-align: top;\n",
       "    }\n",
       "\n",
       "    .dataframe thead th {\n",
       "        text-align: right;\n",
       "    }\n",
       "</style>\n",
       "<table border=\"1\" class=\"dataframe\">\n",
       "  <thead>\n",
       "    <tr style=\"text-align: right;\">\n",
       "      <th></th>\n",
       "      <th>image</th>\n",
       "      <th>label</th>\n",
       "    </tr>\n",
       "  </thead>\n",
       "  <tbody>\n",
       "    <tr>\n",
       "      <th>count</th>\n",
       "      <td>18353</td>\n",
       "      <td>18353</td>\n",
       "    </tr>\n",
       "    <tr>\n",
       "      <th>unique</th>\n",
       "      <td>18353</td>\n",
       "      <td>176</td>\n",
       "    </tr>\n",
       "    <tr>\n",
       "      <th>top</th>\n",
       "      <td>images/129.jpg</td>\n",
       "      <td>maclura_pomifera</td>\n",
       "    </tr>\n",
       "    <tr>\n",
       "      <th>freq</th>\n",
       "      <td>1</td>\n",
       "      <td>353</td>\n",
       "    </tr>\n",
       "  </tbody>\n",
       "</table>\n",
       "</div>"
      ],
      "text/plain": [
       "                 image             label\n",
       "count            18353             18353\n",
       "unique           18353               176\n",
       "top     images/129.jpg  maclura_pomifera\n",
       "freq                 1               353"
      ]
     },
     "execution_count": 23,
     "metadata": {},
     "output_type": "execute_result"
    }
   ],
   "source": [
    "labels_dataframe.describe()"
   ]
  },
  {
   "cell_type": "code",
   "execution_count": 24,
   "id": "7a61cbf5-1f58-4a60-8a18-988aac9616e5",
   "metadata": {
    "execution": {
     "iopub.execute_input": "2022-05-23T14:43:48.771948Z",
     "iopub.status.busy": "2022-05-23T14:43:48.771347Z",
     "iopub.status.idle": "2022-05-23T14:43:48.781980Z",
     "shell.execute_reply": "2022-05-23T14:43:48.780915Z",
     "shell.execute_reply.started": "2022-05-23T14:43:48.771894Z"
    },
    "tags": []
   },
   "outputs": [],
   "source": [
    "leaves_labels = sorted(labels_dataframe['label'].unique())"
   ]
  },
  {
   "cell_type": "code",
   "execution_count": 25,
   "id": "7aeac426-074a-4207-b2bb-161c338968d5",
   "metadata": {
    "execution": {
     "iopub.execute_input": "2022-05-23T14:43:49.934288Z",
     "iopub.status.busy": "2022-05-23T14:43:49.933709Z",
     "iopub.status.idle": "2022-05-23T14:43:49.939225Z",
     "shell.execute_reply": "2022-05-23T14:43:49.938319Z",
     "shell.execute_reply.started": "2022-05-23T14:43:49.934236Z"
    },
    "tags": []
   },
   "outputs": [],
   "source": [
    "cls_to_num = dict(zip(leaves_labels, range(len(leaves_labels))))"
   ]
  },
  {
   "cell_type": "code",
   "execution_count": 26,
   "id": "57340336-8b65-4f1b-807e-86841799e6a6",
   "metadata": {
    "execution": {
     "iopub.execute_input": "2022-05-23T14:43:50.566229Z",
     "iopub.status.busy": "2022-05-23T14:43:50.565654Z",
     "iopub.status.idle": "2022-05-23T14:43:50.571548Z",
     "shell.execute_reply": "2022-05-23T14:43:50.570645Z",
     "shell.execute_reply.started": "2022-05-23T14:43:50.566178Z"
    },
    "tags": []
   },
   "outputs": [],
   "source": [
    "num_to_cls = dict(zip(range(len(leaves_labels)), leaves_labels))"
   ]
  },
  {
   "cell_type": "code",
   "execution_count": 27,
   "id": "1a9f8d53-d901-457a-8662-afa2c2abf24f",
   "metadata": {
    "execution": {
     "iopub.execute_input": "2022-05-23T14:43:51.174083Z",
     "iopub.status.busy": "2022-05-23T14:43:51.173484Z",
     "iopub.status.idle": "2022-05-23T14:43:51.182119Z",
     "shell.execute_reply": "2022-05-23T14:43:51.181061Z",
     "shell.execute_reply.started": "2022-05-23T14:43:51.174030Z"
    },
    "tags": []
   },
   "outputs": [
    {
     "data": {
      "text/plain": [
       "18353"
      ]
     },
     "execution_count": 27,
     "metadata": {},
     "output_type": "execute_result"
    }
   ],
   "source": [
    "len(labels_dataframe)"
   ]
  },
  {
   "cell_type": "code",
   "execution_count": 28,
   "id": "313bd5d0-091a-42d5-9d4d-866c9d8a4130",
   "metadata": {
    "execution": {
     "iopub.execute_input": "2022-05-23T14:43:51.879870Z",
     "iopub.status.busy": "2022-05-23T14:43:51.879405Z",
     "iopub.status.idle": "2022-05-23T14:43:51.901606Z",
     "shell.execute_reply": "2022-05-23T14:43:51.900793Z",
     "shell.execute_reply.started": "2022-05-23T14:43:51.879819Z"
    },
    "tags": []
   },
   "outputs": [],
   "source": [
    "class LeavesData(Dataset):\n",
    "    def __init__(self, csv_path, img_path, mode='train', valid_ration=0.2, resize_h=256, resize_w=256):\n",
    "        \"\"\"\n",
    "        Args:\n",
    "            csv_path (string): csv 文件路径\n",
    "            img_path (string): 图像文件所在路径\n",
    "            mode (string): 训练模式还是测试模式\n",
    "            valid_ratio (float): 验证集比例\n",
    "        \"\"\"\n",
    "        self.resize_h, self.resize_w = resize_h, resize_w\n",
    "        self.img_path = img_path\n",
    "        self.mode = mode\n",
    "        self.data_info = pd.read_csv(csv_path, header=None)\n",
    "        self.data_len = len(self.data_info) - 1\n",
    "        self.train_data_len = int(self.data_len * (1 - valid_ration))\n",
    "        # print(self.data_len)\n",
    "        if mode == 'train':\n",
    "            self.train_img = np.asarray(self.data_info.iloc[1:self.train_data_len, 0])\n",
    "            self.train_label = np.asarray(self.data_info.iloc[1:self.train_data_len, 1])\n",
    "            self.img_arr = self.train_img\n",
    "            self.label_arr = self.train_label\n",
    "        elif mode == 'valid':\n",
    "            self.valid_img = np.asarray(self.data_info.iloc[self.train_data_len:, 0])\n",
    "            self.valid_label = np.asarray(self.data_info.iloc[self.train_data_len:, 1])\n",
    "            self.img_arr = self.valid_img\n",
    "            self.label_arr = self.valid_label\n",
    "        else:\n",
    "            self.test_img = np.asarray(self.data_info.iloc[1:, 0])\n",
    "            self.img_arr = self.test_img\n",
    "        self.real_len = len(self.img_arr)\n",
    "        print(f'Finished reading the {mode} set of Leaves Dataset ({self.real_len} samples found)')\n",
    "\n",
    "    def __getitem__(self, index):\n",
    "        img_name = self.img_arr[index]\n",
    "        img_as_img = Image.open(os.path.join(self.img_path, img_name))\n",
    "        # 如果需要将RGB三通道的图片转换成灰度图片可参考下面两行\n",
    "        #         if img_as_img.mode != 'L':\n",
    "        #             img_as_img = img_as_img.convert('L')\n",
    "        if self.mode == 'train':\n",
    "            transform = transforms.Compose([\n",
    "                # transforms.RandomResizedCrop((224,224),scale=(0.8,1.0),ratio=(0.8,1.2)),#随机裁剪\n",
    "                # transforms.transforms.ColorJitter(brightness=0.5, contrast=0.5, saturation=0.5, hue=0.5),#随机调整图片的亮度、对比度、饱和度、色调\n",
    "                # transforms.Resize((224,224)),#缩放图片\n",
    "                transforms.RandomHorizontalFlip(p=0.5),  # 随机水平翻转\n",
    "                transforms.RandomVerticalFlip(p=0.5),  # 随机垂直翻转\n",
    "                transforms.ToTensor(), ]  # 将图片转换成Tensor\n",
    "            )\n",
    "        else:\n",
    "            transform = transforms.Compose([\n",
    "                transforms.Resize((224, 224)),  # 缩放图片\n",
    "                transforms.ToTensor(), ]  # 将图片转换成Tensor\n",
    "            )\n",
    "        img_as_tensor = transform(img_as_img)\n",
    "        if self.mode == 'test':\n",
    "            return img_as_tensor\n",
    "        else:\n",
    "            label = self.label_arr[index]\n",
    "            num_label = cls_to_num[label]\n",
    "            return img_as_tensor, num_label\n",
    "\n",
    "    def __len__(self):\n",
    "        return self.real_len"
   ]
  },
  {
   "cell_type": "code",
   "execution_count": 29,
   "id": "d34168cb-658d-425f-830c-9f9dca46681a",
   "metadata": {
    "execution": {
     "iopub.execute_input": "2022-05-23T14:43:53.065357Z",
     "iopub.status.busy": "2022-05-23T14:43:53.064774Z",
     "iopub.status.idle": "2022-05-23T14:43:53.123356Z",
     "shell.execute_reply": "2022-05-23T14:43:53.122185Z",
     "shell.execute_reply.started": "2022-05-23T14:43:53.065304Z"
    },
    "tags": []
   },
   "outputs": [
    {
     "name": "stdout",
     "output_type": "stream",
     "text": [
      "Finished reading the train set of Leaves Dataset (14681 samples found)\n",
      "Finished reading the valid set of Leaves Dataset (3672 samples found)\n",
      "Finished reading the test set of Leaves Dataset (8800 samples found)\n",
      "<__main__.LeavesData object at 0x7fb4b2546340>\n",
      "<__main__.LeavesData object at 0x7fb4b25463a0>\n",
      "<__main__.LeavesData object at 0x7fb4b2546190>\n"
     ]
    }
   ],
   "source": [
    "train_path = 'dataset/classify_leaves/train.csv'\n",
    "test_path = 'dataset/classify_leaves/test.csv'\n",
    "img_path = 'dataset/classify_leaves/'\n",
    "train_dataset = LeavesData(train_path, img_path, mode='train')\n",
    "val_dataset = LeavesData(train_path, img_path, mode='valid')\n",
    "test_dataset = LeavesData(test_path, img_path, mode='test')\n",
    "print(train_dataset)\n",
    "print(val_dataset)\n",
    "print(test_dataset)"
   ]
  },
  {
   "cell_type": "code",
   "execution_count": 30,
   "id": "d6342933-4085-4989-b124-9fcb4e46d7f5",
   "metadata": {
    "execution": {
     "iopub.execute_input": "2022-05-23T14:43:55.327301Z",
     "iopub.status.busy": "2022-05-23T14:43:55.326694Z",
     "iopub.status.idle": "2022-05-23T14:43:55.340631Z",
     "shell.execute_reply": "2022-05-23T14:43:55.339772Z",
     "shell.execute_reply.started": "2022-05-23T14:43:55.327248Z"
    },
    "tags": []
   },
   "outputs": [],
   "source": [
    "train_iter = torch.utils.data.DataLoader(dataset=train_dataset, batch_size=16, shuffle=False, num_workers=4, pin_memory=False)\n",
    "val_iter = torch.utils.data.DataLoader(dataset=val_dataset, batch_size=16, shuffle=False, num_workers=4, pin_memory=False)\n",
    "test_iter = torch.utils.data.DataLoader(dataset=test_dataset, batch_size=16, shuffle=False, num_workers=4, pin_memory=False)"
   ]
  },
  {
   "cell_type": "code",
   "execution_count": 31,
   "id": "4844ff36-7d9b-4565-bcaf-a288ce7decbf",
   "metadata": {
    "execution": {
     "iopub.execute_input": "2022-05-23T14:43:58.129437Z",
     "iopub.status.busy": "2022-05-23T14:43:58.128982Z",
     "iopub.status.idle": "2022-05-23T14:43:58.136042Z",
     "shell.execute_reply": "2022-05-23T14:43:58.135405Z",
     "shell.execute_reply.started": "2022-05-23T14:43:58.129400Z"
    },
    "tags": []
   },
   "outputs": [],
   "source": [
    "def set_parameter_requires_grad(model, feature_extracting):\n",
    "    # if feature_extracting:\n",
    "    #     model=model\n",
    "    #     for i,param in enumerate(model.children()):\n",
    "    #         if i==8:\n",
    "    #             break\n",
    "    #         param.requires_grad = False\n",
    "    if feature_extracting:\n",
    "        model = model\n",
    "        for param in model.parameters():\n",
    "            param.requires_grad = False\n",
    "\n",
    "\n",
    "# resnet34\n",
    "def res_model(num_classes, feature_extract=False, use_pretrained=True):\n",
    "    model_ft = models.resnet34(pretrained=use_pretrained)\n",
    "    set_parameter_requires_grad(model_ft, feature_extract)\n",
    "    num_ftrs = model_ft.fc.in_features\n",
    "    #     model_ft.fc = nn.Sequential(\n",
    "    #         nn.Linear(num_ftrs, 512),\n",
    "    #         nn.ReLU(inplace=True),\n",
    "    #         nn.Dropout(.3),\n",
    "    #         nn.Linear(512, len(num_to_class))\n",
    "    #     )\n",
    "    model_ft.fc = nn.Sequential(nn.Linear(num_ftrs, num_classes))\n",
    "    return model_ft\n",
    "\n",
    "\n",
    "# resnext50模型\n",
    "def resnext_model(num_classes, feature_extract=False, use_pretrained=True):\n",
    "    model_ft = models.resnext50_32x4d(pretrained=use_pretrained)\n",
    "    set_parameter_requires_grad(model_ft, feature_extract)\n",
    "    num_ftrs = model_ft.fc.in_features\n",
    "    model_ft.fc = nn.Sequential(nn.Linear(num_ftrs, num_classes))\n",
    "    return model_ft"
   ]
  },
  {
   "cell_type": "code",
   "execution_count": 32,
   "id": "6e405530-2e8d-471c-aabd-bf173024d24c",
   "metadata": {
    "execution": {
     "iopub.execute_input": "2022-05-23T14:43:59.626082Z",
     "iopub.status.busy": "2022-05-23T14:43:59.625468Z",
     "iopub.status.idle": "2022-05-23T14:43:59.631917Z",
     "shell.execute_reply": "2022-05-23T14:43:59.630840Z",
     "shell.execute_reply.started": "2022-05-23T14:43:59.626028Z"
    },
    "tags": []
   },
   "outputs": [],
   "source": [
    "learning_rate = 3e-4\n",
    "weight_decay = 1e-3\n",
    "num_epoch = 50\n",
    "model_path = 'dataset/classify_leaves/pre_resnext_model.ckpt'"
   ]
  },
  {
   "cell_type": "code",
   "execution_count": 14,
   "id": "dff958f0-b2a5-4c88-a0f9-0f97a420b8d6",
   "metadata": {
    "execution": {
     "iopub.execute_input": "2022-05-22T16:21:16.559342Z",
     "iopub.status.busy": "2022-05-22T16:21:16.559119Z",
     "iopub.status.idle": "2022-05-22T16:21:34.283530Z",
     "shell.execute_reply": "2022-05-22T16:21:34.281498Z",
     "shell.execute_reply.started": "2022-05-22T16:21:16.559323Z"
    },
    "tags": []
   },
   "outputs": [],
   "source": [
    "device = 'cuda'\n",
    "# model = res_model(176)\n",
    "model = resnext_model(176)\n",
    "model = model.to(device)\n",
    "model.device = device\n",
    "# For the classification task, we use cross-entropy as the measurement of performance.\n",
    "criterion = nn.CrossEntropyLoss()\n",
    "# Initialize optimizer, you may fine-tune some hyperparameters such as learning rate on your own.\n",
    "# optimizer = torch.optim.Adam(filter(lambda p: p.requires_grad, model.parameters()), lr = learning_rate, weight_decay=weight_decay)\n",
    "optimizer = torch.optim.Adam(model.parameters(), lr=learning_rate, weight_decay=weight_decay)\n",
    "# 余弦退火，last_epoch表示上一次训练的最后一个epoch,-1表示当前轮从0开始\n",
    "scheduler = torch.optim.lr_scheduler.CosineAnnealingLR(optimizer, T_max=10, eta_min=0, last_epoch=-1)\n",
    "# The number of training epochs.\n",
    "n_epochs = num_epoch"
   ]
  },
  {
   "cell_type": "code",
   "execution_count": null,
   "id": "333f8721-cf40-429f-bd64-627d248e167d",
   "metadata": {
    "execution": {
     "iopub.execute_input": "2022-05-22T16:21:34.287535Z",
     "iopub.status.busy": "2022-05-22T16:21:34.286807Z"
    }
   },
   "outputs": [
    {
     "name": "stderr",
     "output_type": "stream",
     "text": [
      "  0%|          | 2/918 [00:05<35:58,  2.36s/it]  "
     ]
    },
    {
     "name": "stdout",
     "output_type": "stream",
     "text": [
      "learning_rate: 0.00029265847744427303\n"
     ]
    },
    {
     "name": "stderr",
     "output_type": "stream",
     "text": [
      " 55%|█████▍    | 503/918 [00:52<00:38, 10.83it/s]"
     ]
    },
    {
     "name": "stdout",
     "output_type": "stream",
     "text": [
      "learning_rate: 0.0002926584774442748\n"
     ]
    },
    {
     "name": "stderr",
     "output_type": "stream",
     "text": [
      "100%|██████████| 918/918 [01:30<00:00, 10.11it/s]\n",
      "100%|██████████| 230/230 [00:08<00:00, 28.11it/s]\n"
     ]
    },
    {
     "name": "stdout",
     "output_type": "stream",
     "text": [
      "[ Valid | 001/050 ] loss = 1.12001, acc = 0.66087\n",
      "saving model with acc 0.661\n"
     ]
    },
    {
     "name": "stderr",
     "output_type": "stream",
     "text": [
      "  0%|          | 3/918 [00:01<08:07,  1.88it/s]"
     ]
    },
    {
     "name": "stdout",
     "output_type": "stream",
     "text": [
      "learning_rate: 0.00029265847744432296\n"
     ]
    },
    {
     "name": "stderr",
     "output_type": "stream",
     "text": [
      " 55%|█████▍    | 503/918 [00:47<00:37, 11.16it/s]"
     ]
    },
    {
     "name": "stdout",
     "output_type": "stream",
     "text": [
      "learning_rate: 0.0002926584774443747\n"
     ]
    },
    {
     "name": "stderr",
     "output_type": "stream",
     "text": [
      "100%|██████████| 918/918 [01:25<00:00, 10.73it/s]\n",
      "100%|██████████| 230/230 [00:09<00:00, 24.87it/s]\n"
     ]
    },
    {
     "name": "stdout",
     "output_type": "stream",
     "text": [
      "[ Valid | 002/050 ] loss = 0.57960, acc = 0.82201\n",
      "saving model with acc 0.822\n"
     ]
    },
    {
     "name": "stderr",
     "output_type": "stream",
     "text": [
      "  0%|          | 2/918 [00:02<17:14,  1.13s/it]"
     ]
    },
    {
     "name": "stdout",
     "output_type": "stream",
     "text": [
      "learning_rate: 0.00023816778784394873\n"
     ]
    },
    {
     "name": "stderr",
     "output_type": "stream",
     "text": [
      " 55%|█████▍    | 502/918 [00:48<00:37, 11.02it/s]"
     ]
    },
    {
     "name": "stdout",
     "output_type": "stream",
     "text": [
      "learning_rate: 0.000238167787843908\n"
     ]
    },
    {
     "name": "stderr",
     "output_type": "stream",
     "text": [
      "100%|██████████| 918/918 [01:26<00:00, 10.64it/s]\n",
      "100%|██████████| 230/230 [00:08<00:00, 26.62it/s]\n"
     ]
    },
    {
     "name": "stdout",
     "output_type": "stream",
     "text": [
      "[ Valid | 003/050 ] loss = 0.54143, acc = 0.83913\n",
      "saving model with acc 0.839\n"
     ]
    },
    {
     "name": "stderr",
     "output_type": "stream",
     "text": [
      "  0%|          | 3/918 [00:02<09:07,  1.67it/s]"
     ]
    },
    {
     "name": "stdout",
     "output_type": "stream",
     "text": [
      "learning_rate: 0.00015000000000013435\n"
     ]
    },
    {
     "name": "stderr",
     "output_type": "stream",
     "text": [
      " 55%|█████▍    | 503/918 [00:48<00:37, 10.98it/s]"
     ]
    },
    {
     "name": "stdout",
     "output_type": "stream",
     "text": [
      "learning_rate: 0.0001500000000000938\n"
     ]
    },
    {
     "name": "stderr",
     "output_type": "stream",
     "text": [
      "100%|██████████| 918/918 [01:26<00:00, 10.66it/s]\n",
      "100%|██████████| 230/230 [00:08<00:00, 27.50it/s]\n"
     ]
    },
    {
     "name": "stdout",
     "output_type": "stream",
     "text": [
      "[ Valid | 004/050 ] loss = 0.82339, acc = 0.77527\n"
     ]
    },
    {
     "name": "stderr",
     "output_type": "stream",
     "text": [
      "  0%|          | 3/918 [00:02<10:05,  1.51it/s]"
     ]
    },
    {
     "name": "stdout",
     "output_type": "stream",
     "text": [
      "learning_rate: 6.183221215612329e-05\n"
     ]
    },
    {
     "name": "stderr",
     "output_type": "stream",
     "text": [
      " 55%|█████▍    | 503/918 [00:48<00:37, 11.16it/s]"
     ]
    },
    {
     "name": "stdout",
     "output_type": "stream",
     "text": [
      "learning_rate: 6.183221215614604e-05\n"
     ]
    },
    {
     "name": "stderr",
     "output_type": "stream",
     "text": [
      "100%|██████████| 918/918 [01:26<00:00, 10.63it/s]\n",
      "100%|██████████| 230/230 [00:08<00:00, 26.36it/s]\n"
     ]
    },
    {
     "name": "stdout",
     "output_type": "stream",
     "text": [
      "[ Valid | 005/050 ] loss = 0.55107, acc = 0.84293\n",
      "saving model with acc 0.843\n"
     ]
    },
    {
     "name": "stderr",
     "output_type": "stream",
     "text": [
      "  0%|          | 2/918 [00:01<12:35,  1.21it/s]"
     ]
    },
    {
     "name": "stdout",
     "output_type": "stream",
     "text": [
      "learning_rate: 7.34152255572697e-06\n"
     ]
    },
    {
     "name": "stderr",
     "output_type": "stream",
     "text": [
      " 55%|█████▍    | 502/918 [00:47<00:37, 10.99it/s]"
     ]
    },
    {
     "name": "stdout",
     "output_type": "stream",
     "text": [
      "learning_rate: 7.34152255572697e-06\n"
     ]
    },
    {
     "name": "stderr",
     "output_type": "stream",
     "text": [
      "100%|██████████| 918/918 [01:25<00:00, 10.69it/s]\n",
      "100%|██████████| 230/230 [00:08<00:00, 25.93it/s]\n"
     ]
    },
    {
     "name": "stdout",
     "output_type": "stream",
     "text": [
      "[ Valid | 006/050 ] loss = 0.48470, acc = 0.86766\n",
      "saving model with acc 0.868\n"
     ]
    },
    {
     "name": "stderr",
     "output_type": "stream",
     "text": [
      "  0%|          | 3/918 [00:02<09:23,  1.62it/s]"
     ]
    },
    {
     "name": "stdout",
     "output_type": "stream",
     "text": [
      "learning_rate: 7.341522555728597e-06\n"
     ]
    },
    {
     "name": "stderr",
     "output_type": "stream",
     "text": [
      " 55%|█████▍    | 503/918 [00:48<00:37, 11.16it/s]"
     ]
    },
    {
     "name": "stdout",
     "output_type": "stream",
     "text": [
      "learning_rate: 7.341522555736413e-06\n"
     ]
    },
    {
     "name": "stderr",
     "output_type": "stream",
     "text": [
      "100%|██████████| 918/918 [01:26<00:00, 10.60it/s]\n",
      "100%|██████████| 230/230 [00:08<00:00, 28.19it/s]\n"
     ]
    },
    {
     "name": "stdout",
     "output_type": "stream",
     "text": [
      "[ Valid | 007/050 ] loss = 0.44337, acc = 0.87418\n",
      "saving model with acc 0.874\n"
     ]
    },
    {
     "name": "stderr",
     "output_type": "stream",
     "text": [
      "  0%|          | 3/918 [00:01<07:27,  2.05it/s]"
     ]
    },
    {
     "name": "stdout",
     "output_type": "stream",
     "text": [
      "learning_rate: 6.183221215620828e-05\n"
     ]
    },
    {
     "name": "stderr",
     "output_type": "stream",
     "text": [
      " 55%|█████▍    | 502/918 [00:49<00:38, 10.94it/s]"
     ]
    },
    {
     "name": "stdout",
     "output_type": "stream",
     "text": [
      "learning_rate: 6.183221215607377e-05\n"
     ]
    },
    {
     "name": "stderr",
     "output_type": "stream",
     "text": [
      "100%|██████████| 918/918 [01:28<00:00, 10.41it/s]\n",
      "100%|██████████| 230/230 [00:08<00:00, 27.62it/s]\n"
     ]
    },
    {
     "name": "stdout",
     "output_type": "stream",
     "text": [
      "[ Valid | 008/050 ] loss = 1.69550, acc = 0.60842\n"
     ]
    },
    {
     "name": "stderr",
     "output_type": "stream",
     "text": [
      "  0%|          | 3/918 [00:01<07:08,  2.14it/s]"
     ]
    },
    {
     "name": "stdout",
     "output_type": "stream",
     "text": [
      "learning_rate: 0.00015000000000010337\n"
     ]
    },
    {
     "name": "stderr",
     "output_type": "stream",
     "text": [
      " 55%|█████▍    | 503/918 [00:47<00:38, 10.88it/s]"
     ]
    },
    {
     "name": "stdout",
     "output_type": "stream",
     "text": [
      "learning_rate: 0.00015000000000037688\n"
     ]
    },
    {
     "name": "stderr",
     "output_type": "stream",
     "text": [
      "100%|██████████| 918/918 [01:25<00:00, 10.73it/s]\n",
      "100%|██████████| 230/230 [00:08<00:00, 27.07it/s]\n"
     ]
    },
    {
     "name": "stdout",
     "output_type": "stream",
     "text": [
      "[ Valid | 009/050 ] loss = 0.58069, acc = 0.83234\n"
     ]
    },
    {
     "name": "stderr",
     "output_type": "stream",
     "text": [
      "  0%|          | 3/918 [00:01<07:28,  2.04it/s]"
     ]
    },
    {
     "name": "stdout",
     "output_type": "stream",
     "text": [
      "learning_rate: 0.00023816778784413724\n"
     ]
    },
    {
     "name": "stderr",
     "output_type": "stream",
     "text": [
      " 55%|█████▍    | 503/918 [00:48<00:37, 10.96it/s]"
     ]
    },
    {
     "name": "stdout",
     "output_type": "stream",
     "text": [
      "learning_rate: 0.0002381677878439048\n"
     ]
    },
    {
     "name": "stderr",
     "output_type": "stream",
     "text": [
      "100%|██████████| 918/918 [01:26<00:00, 10.60it/s]\n",
      "100%|██████████| 230/230 [00:08<00:00, 28.18it/s]\n"
     ]
    },
    {
     "name": "stdout",
     "output_type": "stream",
     "text": [
      "[ Valid | 010/050 ] loss = 0.34194, acc = 0.90870\n",
      "saving model with acc 0.909\n"
     ]
    },
    {
     "name": "stderr",
     "output_type": "stream",
     "text": [
      "  0%|          | 3/918 [00:01<07:59,  1.91it/s]"
     ]
    },
    {
     "name": "stdout",
     "output_type": "stream",
     "text": [
      "learning_rate: 0.00029265847744386233\n"
     ]
    },
    {
     "name": "stderr",
     "output_type": "stream",
     "text": [
      " 55%|█████▍    | 503/918 [00:47<00:37, 11.08it/s]"
     ]
    },
    {
     "name": "stdout",
     "output_type": "stream",
     "text": [
      "learning_rate: 0.0002926584774444529\n"
     ]
    },
    {
     "name": "stderr",
     "output_type": "stream",
     "text": [
      "100%|██████████| 918/918 [01:25<00:00, 10.76it/s]\n",
      "100%|██████████| 230/230 [00:08<00:00, 25.92it/s]\n"
     ]
    },
    {
     "name": "stdout",
     "output_type": "stream",
     "text": [
      "[ Valid | 011/050 ] loss = 0.27153, acc = 0.91902\n",
      "saving model with acc 0.919\n"
     ]
    },
    {
     "name": "stderr",
     "output_type": "stream",
     "text": [
      "  0%|          | 3/918 [00:01<06:56,  2.19it/s]"
     ]
    },
    {
     "name": "stdout",
     "output_type": "stream",
     "text": [
      "learning_rate: 0.0002926584774448399\n"
     ]
    },
    {
     "name": "stderr",
     "output_type": "stream",
     "text": [
      " 55%|█████▍    | 503/918 [00:46<00:37, 11.16it/s]"
     ]
    },
    {
     "name": "stdout",
     "output_type": "stream",
     "text": [
      "learning_rate: 0.0002926584774445823\n"
     ]
    },
    {
     "name": "stderr",
     "output_type": "stream",
     "text": [
      "100%|██████████| 918/918 [01:25<00:00, 10.74it/s]\n",
      "100%|██████████| 230/230 [00:08<00:00, 27.57it/s]\n"
     ]
    },
    {
     "name": "stdout",
     "output_type": "stream",
     "text": [
      "[ Valid | 012/050 ] loss = 0.37814, acc = 0.88668\n"
     ]
    },
    {
     "name": "stderr",
     "output_type": "stream",
     "text": [
      "  0%|          | 3/918 [00:02<08:15,  1.84it/s]"
     ]
    },
    {
     "name": "stdout",
     "output_type": "stream",
     "text": [
      "learning_rate: 0.0002381677878444142\n"
     ]
    },
    {
     "name": "stderr",
     "output_type": "stream",
     "text": [
      " 55%|█████▍    | 503/918 [00:48<00:38, 10.84it/s]"
     ]
    },
    {
     "name": "stdout",
     "output_type": "stream",
     "text": [
      "learning_rate: 0.00023816778784358774\n"
     ]
    },
    {
     "name": "stderr",
     "output_type": "stream",
     "text": [
      "100%|██████████| 918/918 [01:26<00:00, 10.59it/s]\n",
      "100%|██████████| 230/230 [00:08<00:00, 25.62it/s]\n"
     ]
    },
    {
     "name": "stdout",
     "output_type": "stream",
     "text": [
      "[ Valid | 013/050 ] loss = 0.39615, acc = 0.89457\n"
     ]
    },
    {
     "name": "stderr",
     "output_type": "stream",
     "text": [
      "  0%|          | 3/918 [00:01<07:43,  1.97it/s]"
     ]
    },
    {
     "name": "stdout",
     "output_type": "stream",
     "text": [
      "learning_rate: 0.00015000000000037686\n"
     ]
    },
    {
     "name": "stderr",
     "output_type": "stream",
     "text": [
      " 55%|█████▍    | 502/918 [00:48<00:39, 10.48it/s]"
     ]
    },
    {
     "name": "stdout",
     "output_type": "stream",
     "text": [
      "learning_rate: 0.00014999999999990038\n"
     ]
    },
    {
     "name": "stderr",
     "output_type": "stream",
     "text": [
      "100%|██████████| 918/918 [01:27<00:00, 10.47it/s]\n",
      "100%|██████████| 230/230 [00:08<00:00, 26.51it/s]\n"
     ]
    },
    {
     "name": "stdout",
     "output_type": "stream",
     "text": [
      "[ Valid | 014/050 ] loss = 0.30463, acc = 0.91033\n"
     ]
    },
    {
     "name": "stderr",
     "output_type": "stream",
     "text": [
      "  0%|          | 3/918 [00:02<08:26,  1.81it/s]"
     ]
    },
    {
     "name": "stdout",
     "output_type": "stream",
     "text": [
      "learning_rate: 6.18322121561555e-05\n"
     ]
    },
    {
     "name": "stderr",
     "output_type": "stream",
     "text": [
      " 55%|█████▍    | 502/918 [00:47<00:36, 11.27it/s]"
     ]
    },
    {
     "name": "stdout",
     "output_type": "stream",
     "text": [
      "learning_rate: 6.183221215606186e-05\n"
     ]
    },
    {
     "name": "stderr",
     "output_type": "stream",
     "text": [
      "100%|██████████| 918/918 [01:25<00:00, 10.71it/s]\n",
      "100%|██████████| 230/230 [00:08<00:00, 27.17it/s]\n"
     ]
    },
    {
     "name": "stdout",
     "output_type": "stream",
     "text": [
      "[ Valid | 015/050 ] loss = 0.41045, acc = 0.88913\n"
     ]
    },
    {
     "name": "stderr",
     "output_type": "stream",
     "text": [
      "  0%|          | 2/918 [00:02<13:20,  1.14it/s]"
     ]
    },
    {
     "name": "stdout",
     "output_type": "stream",
     "text": [
      "learning_rate: 7.34152255572697e-06\n"
     ]
    },
    {
     "name": "stderr",
     "output_type": "stream",
     "text": [
      " 55%|█████▍    | 503/918 [00:48<00:37, 11.17it/s]"
     ]
    },
    {
     "name": "stdout",
     "output_type": "stream",
     "text": [
      "learning_rate: 7.34152255572697e-06\n"
     ]
    },
    {
     "name": "stderr",
     "output_type": "stream",
     "text": [
      "100%|██████████| 918/918 [01:27<00:00, 10.54it/s]\n",
      "100%|██████████| 230/230 [00:10<00:00, 22.95it/s]\n"
     ]
    },
    {
     "name": "stdout",
     "output_type": "stream",
     "text": [
      "[ Valid | 016/050 ] loss = 0.68864, acc = 0.82663\n"
     ]
    },
    {
     "name": "stderr",
     "output_type": "stream",
     "text": [
      "  0%|          | 3/918 [00:01<07:38,  2.00it/s]"
     ]
    },
    {
     "name": "stdout",
     "output_type": "stream",
     "text": [
      "learning_rate: 7.3415225557185945e-06\n"
     ]
    },
    {
     "name": "stderr",
     "output_type": "stream",
     "text": [
      " 55%|█████▍    | 503/918 [00:49<00:40, 10.24it/s]"
     ]
    },
    {
     "name": "stdout",
     "output_type": "stream",
     "text": [
      "learning_rate: 7.341522555789652e-06\n"
     ]
    },
    {
     "name": "stderr",
     "output_type": "stream",
     "text": [
      "100%|██████████| 918/918 [01:28<00:00, 10.35it/s]\n",
      "100%|██████████| 230/230 [00:08<00:00, 26.66it/s]\n"
     ]
    },
    {
     "name": "stdout",
     "output_type": "stream",
     "text": [
      "[ Valid | 017/050 ] loss = 0.43216, acc = 0.88043\n"
     ]
    },
    {
     "name": "stderr",
     "output_type": "stream",
     "text": [
      "  0%|          | 3/918 [00:02<08:15,  1.85it/s]"
     ]
    },
    {
     "name": "stdout",
     "output_type": "stream",
     "text": [
      "learning_rate: 6.183221215633051e-05\n"
     ]
    },
    {
     "name": "stderr",
     "output_type": "stream",
     "text": [
      " 55%|█████▍    | 502/918 [00:48<00:38, 10.85it/s]"
     ]
    },
    {
     "name": "stdout",
     "output_type": "stream",
     "text": [
      "learning_rate: 6.183221215590225e-05\n"
     ]
    },
    {
     "name": "stderr",
     "output_type": "stream",
     "text": [
      "100%|██████████| 918/918 [01:25<00:00, 10.69it/s]\n",
      "100%|██████████| 230/230 [00:09<00:00, 24.90it/s]\n"
     ]
    },
    {
     "name": "stdout",
     "output_type": "stream",
     "text": [
      "[ Valid | 018/050 ] loss = 0.39915, acc = 0.88587\n"
     ]
    },
    {
     "name": "stderr",
     "output_type": "stream",
     "text": [
      "  0%|          | 2/918 [00:01<10:58,  1.39it/s]"
     ]
    },
    {
     "name": "stdout",
     "output_type": "stream",
     "text": [
      "learning_rate: 0.0001500000000003028\n"
     ]
    },
    {
     "name": "stderr",
     "output_type": "stream",
     "text": [
      " 55%|█████▍    | 502/918 [00:46<00:35, 11.66it/s]"
     ]
    },
    {
     "name": "stdout",
     "output_type": "stream",
     "text": [
      "learning_rate: 0.0001500000000000092\n"
     ]
    },
    {
     "name": "stderr",
     "output_type": "stream",
     "text": [
      "100%|██████████| 918/918 [01:24<00:00, 10.86it/s]\n",
      "100%|██████████| 230/230 [00:08<00:00, 27.26it/s]\n"
     ]
    },
    {
     "name": "stdout",
     "output_type": "stream",
     "text": [
      "[ Valid | 019/050 ] loss = 1.47073, acc = 0.65761\n"
     ]
    },
    {
     "name": "stderr",
     "output_type": "stream",
     "text": [
      "  0%|          | 3/918 [00:01<07:40,  1.99it/s]"
     ]
    },
    {
     "name": "stdout",
     "output_type": "stream",
     "text": [
      "learning_rate: 0.00023816778784359243\n"
     ]
    },
    {
     "name": "stderr",
     "output_type": "stream",
     "text": [
      " 55%|█████▍    | 503/918 [00:47<00:38, 10.82it/s]"
     ]
    },
    {
     "name": "stdout",
     "output_type": "stream",
     "text": [
      "learning_rate: 0.00023816778784483772\n"
     ]
    },
    {
     "name": "stderr",
     "output_type": "stream",
     "text": [
      "100%|██████████| 918/918 [01:26<00:00, 10.61it/s]\n",
      "100%|██████████| 230/230 [00:11<00:00, 19.19it/s]\n"
     ]
    },
    {
     "name": "stdout",
     "output_type": "stream",
     "text": [
      "[ Valid | 020/050 ] loss = 0.29414, acc = 0.91576\n"
     ]
    },
    {
     "name": "stderr",
     "output_type": "stream",
     "text": [
      "  0%|          | 3/918 [00:02<09:09,  1.67it/s]"
     ]
    },
    {
     "name": "stdout",
     "output_type": "stream",
     "text": [
      "learning_rate: 0.0002926584774449294\n"
     ]
    },
    {
     "name": "stderr",
     "output_type": "stream",
     "text": [
      " 55%|█████▍    | 503/918 [00:48<00:38, 10.79it/s]"
     ]
    },
    {
     "name": "stdout",
     "output_type": "stream",
     "text": [
      "learning_rate: 0.00029265847744470075\n"
     ]
    },
    {
     "name": "stderr",
     "output_type": "stream",
     "text": [
      "100%|██████████| 918/918 [01:27<00:00, 10.52it/s]\n",
      "100%|██████████| 230/230 [00:08<00:00, 27.39it/s]\n"
     ]
    },
    {
     "name": "stdout",
     "output_type": "stream",
     "text": [
      "[ Valid | 021/050 ] loss = 0.30327, acc = 0.91413\n"
     ]
    },
    {
     "name": "stderr",
     "output_type": "stream",
     "text": [
      "  0%|          | 3/918 [00:01<07:28,  2.04it/s]"
     ]
    },
    {
     "name": "stdout",
     "output_type": "stream",
     "text": [
      "learning_rate: 0.00029265847744423606\n"
     ]
    },
    {
     "name": "stderr",
     "output_type": "stream",
     "text": [
      " 55%|█████▍    | 502/918 [00:47<00:40, 10.24it/s]"
     ]
    },
    {
     "name": "stdout",
     "output_type": "stream",
     "text": [
      "learning_rate: 0.0002926584774456586\n"
     ]
    },
    {
     "name": "stderr",
     "output_type": "stream",
     "text": [
      "100%|██████████| 918/918 [01:26<00:00, 10.56it/s]\n",
      "100%|██████████| 230/230 [00:08<00:00, 27.33it/s]\n"
     ]
    },
    {
     "name": "stdout",
     "output_type": "stream",
     "text": [
      "[ Valid | 022/050 ] loss = 0.30913, acc = 0.91984\n",
      "saving model with acc 0.920\n"
     ]
    },
    {
     "name": "stderr",
     "output_type": "stream",
     "text": [
      "  0%|          | 3/918 [00:01<07:29,  2.04it/s]"
     ]
    },
    {
     "name": "stdout",
     "output_type": "stream",
     "text": [
      "learning_rate: 0.00023816778784463478\n"
     ]
    },
    {
     "name": "stderr",
     "output_type": "stream",
     "text": [
      " 55%|█████▍    | 503/918 [00:48<00:37, 11.10it/s]"
     ]
    },
    {
     "name": "stdout",
     "output_type": "stream",
     "text": [
      "learning_rate: 0.0002381677878444371\n"
     ]
    },
    {
     "name": "stderr",
     "output_type": "stream",
     "text": [
      "100%|██████████| 918/918 [01:27<00:00, 10.53it/s]\n",
      "100%|██████████| 230/230 [00:08<00:00, 27.31it/s]\n"
     ]
    },
    {
     "name": "stdout",
     "output_type": "stream",
     "text": [
      "[ Valid | 023/050 ] loss = 0.40138, acc = 0.89837\n"
     ]
    },
    {
     "name": "stderr",
     "output_type": "stream",
     "text": [
      "  0%|          | 2/918 [00:01<11:24,  1.34it/s]"
     ]
    },
    {
     "name": "stdout",
     "output_type": "stream",
     "text": [
      "learning_rate: 0.0001500000000009709\n"
     ]
    },
    {
     "name": "stderr",
     "output_type": "stream",
     "text": [
      " 55%|█████▍    | 502/918 [00:47<00:37, 11.03it/s]"
     ]
    },
    {
     "name": "stdout",
     "output_type": "stream",
     "text": [
      "learning_rate: 0.0001500000000008569\n"
     ]
    },
    {
     "name": "stderr",
     "output_type": "stream",
     "text": [
      "100%|██████████| 918/918 [01:26<00:00, 10.65it/s]\n",
      "100%|██████████| 230/230 [00:08<00:00, 27.18it/s]\n"
     ]
    },
    {
     "name": "stdout",
     "output_type": "stream",
     "text": [
      "[ Valid | 024/050 ] loss = 0.37841, acc = 0.89185\n"
     ]
    },
    {
     "name": "stderr",
     "output_type": "stream",
     "text": [
      "  0%|          | 3/918 [00:01<06:45,  2.26it/s]"
     ]
    },
    {
     "name": "stdout",
     "output_type": "stream",
     "text": [
      "learning_rate: 6.183221215636514e-05\n"
     ]
    },
    {
     "name": "stderr",
     "output_type": "stream",
     "text": [
      " 55%|█████▍    | 503/918 [00:48<00:38, 10.88it/s]"
     ]
    },
    {
     "name": "stdout",
     "output_type": "stream",
     "text": [
      "learning_rate: 6.183221215586132e-05\n"
     ]
    },
    {
     "name": "stderr",
     "output_type": "stream",
     "text": [
      "100%|██████████| 918/918 [01:26<00:00, 10.58it/s]\n",
      "100%|██████████| 230/230 [00:08<00:00, 27.55it/s]\n"
     ]
    },
    {
     "name": "stdout",
     "output_type": "stream",
     "text": [
      "[ Valid | 025/050 ] loss = 2.33721, acc = 0.53152\n"
     ]
    },
    {
     "name": "stderr",
     "output_type": "stream",
     "text": [
      "  0%|          | 2/918 [00:01<10:06,  1.51it/s]"
     ]
    },
    {
     "name": "stdout",
     "output_type": "stream",
     "text": [
      "learning_rate: 7.34152255572697e-06\n"
     ]
    },
    {
     "name": "stderr",
     "output_type": "stream",
     "text": [
      " 55%|█████▍    | 502/918 [00:47<00:38, 10.68it/s]"
     ]
    },
    {
     "name": "stdout",
     "output_type": "stream",
     "text": [
      "learning_rate: 7.34152255572697e-06\n"
     ]
    },
    {
     "name": "stderr",
     "output_type": "stream",
     "text": [
      "100%|██████████| 918/918 [01:27<00:00, 10.52it/s]\n",
      "100%|██████████| 230/230 [00:08<00:00, 27.71it/s]\n"
     ]
    },
    {
     "name": "stdout",
     "output_type": "stream",
     "text": [
      "[ Valid | 026/050 ] loss = 0.41422, acc = 0.89266\n"
     ]
    },
    {
     "name": "stderr",
     "output_type": "stream",
     "text": [
      "  0%|          | 3/918 [00:02<08:35,  1.77it/s]"
     ]
    },
    {
     "name": "stdout",
     "output_type": "stream",
     "text": [
      "learning_rate: 7.341522555729688e-06\n"
     ]
    },
    {
     "name": "stderr",
     "output_type": "stream",
     "text": [
      " 55%|█████▍    | 503/918 [00:48<00:37, 11.12it/s]"
     ]
    },
    {
     "name": "stdout",
     "output_type": "stream",
     "text": [
      "learning_rate: 7.3415225557164295e-06\n"
     ]
    },
    {
     "name": "stderr",
     "output_type": "stream",
     "text": [
      "100%|██████████| 918/918 [01:26<00:00, 10.65it/s]\n",
      "100%|██████████| 230/230 [00:09<00:00, 25.47it/s]\n"
     ]
    },
    {
     "name": "stdout",
     "output_type": "stream",
     "text": [
      "[ Valid | 027/050 ] loss = 0.37195, acc = 0.89946\n"
     ]
    },
    {
     "name": "stderr",
     "output_type": "stream",
     "text": [
      "  0%|          | 3/918 [00:01<07:17,  2.09it/s]"
     ]
    },
    {
     "name": "stdout",
     "output_type": "stream",
     "text": [
      "learning_rate: 6.183221215626936e-05\n"
     ]
    },
    {
     "name": "stderr",
     "output_type": "stream",
     "text": [
      " 55%|█████▍    | 503/918 [00:46<00:37, 11.08it/s]"
     ]
    },
    {
     "name": "stdout",
     "output_type": "stream",
     "text": [
      "learning_rate: 6.183221215630655e-05\n"
     ]
    },
    {
     "name": "stderr",
     "output_type": "stream",
     "text": [
      "100%|██████████| 918/918 [01:24<00:00, 10.86it/s]\n",
      "100%|██████████| 230/230 [00:08<00:00, 27.89it/s]\n"
     ]
    },
    {
     "name": "stdout",
     "output_type": "stream",
     "text": [
      "[ Valid | 028/050 ] loss = 0.30972, acc = 0.91902\n"
     ]
    },
    {
     "name": "stderr",
     "output_type": "stream",
     "text": [
      "  0%|          | 3/918 [00:02<08:13,  1.85it/s]"
     ]
    },
    {
     "name": "stdout",
     "output_type": "stream",
     "text": [
      "learning_rate: 0.00014999999999979865\n"
     ]
    },
    {
     "name": "stderr",
     "output_type": "stream",
     "text": [
      " 55%|█████▍    | 502/918 [00:47<00:37, 10.97it/s]"
     ]
    },
    {
     "name": "stdout",
     "output_type": "stream",
     "text": [
      "learning_rate: 0.00015000000000050295\n"
     ]
    },
    {
     "name": "stderr",
     "output_type": "stream",
     "text": [
      "100%|██████████| 918/918 [01:25<00:00, 10.78it/s]\n",
      "100%|██████████| 230/230 [00:08<00:00, 28.28it/s]\n"
     ]
    },
    {
     "name": "stdout",
     "output_type": "stream",
     "text": [
      "[ Valid | 029/050 ] loss = 0.41054, acc = 0.88995\n"
     ]
    },
    {
     "name": "stderr",
     "output_type": "stream",
     "text": [
      "  0%|          | 3/918 [00:02<08:44,  1.75it/s]"
     ]
    },
    {
     "name": "stdout",
     "output_type": "stream",
     "text": [
      "learning_rate: 0.00023816778784315813\n"
     ]
    },
    {
     "name": "stderr",
     "output_type": "stream",
     "text": [
      " 55%|█████▍    | 503/918 [00:47<00:37, 11.00it/s]"
     ]
    },
    {
     "name": "stdout",
     "output_type": "stream",
     "text": [
      "learning_rate: 0.0002381677878456611\n"
     ]
    },
    {
     "name": "stderr",
     "output_type": "stream",
     "text": [
      "100%|██████████| 918/918 [01:25<00:00, 10.79it/s]\n",
      "100%|██████████| 230/230 [00:08<00:00, 27.68it/s]\n"
     ]
    },
    {
     "name": "stdout",
     "output_type": "stream",
     "text": [
      "[ Valid | 030/050 ] loss = 0.28260, acc = 0.91821\n"
     ]
    },
    {
     "name": "stderr",
     "output_type": "stream",
     "text": [
      "  0%|          | 3/918 [00:02<09:40,  1.58it/s]"
     ]
    },
    {
     "name": "stdout",
     "output_type": "stream",
     "text": [
      "learning_rate: 0.00029265847744429444\n"
     ]
    },
    {
     "name": "stderr",
     "output_type": "stream",
     "text": [
      " 55%|█████▍    | 503/918 [00:47<00:37, 11.06it/s]"
     ]
    },
    {
     "name": "stdout",
     "output_type": "stream",
     "text": [
      "learning_rate: 0.00029265847744402356\n"
     ]
    },
    {
     "name": "stderr",
     "output_type": "stream",
     "text": [
      "100%|██████████| 918/918 [01:26<00:00, 10.64it/s]\n",
      "100%|██████████| 230/230 [00:08<00:00, 27.23it/s]\n"
     ]
    },
    {
     "name": "stdout",
     "output_type": "stream",
     "text": [
      "[ Valid | 031/050 ] loss = 0.45746, acc = 0.88098\n"
     ]
    },
    {
     "name": "stderr",
     "output_type": "stream",
     "text": [
      "  0%|          | 3/918 [00:01<07:52,  1.94it/s]"
     ]
    },
    {
     "name": "stdout",
     "output_type": "stream",
     "text": [
      "learning_rate: 0.00029265847744527093\n"
     ]
    },
    {
     "name": "stderr",
     "output_type": "stream",
     "text": [
      " 55%|█████▍    | 502/918 [00:48<00:41, 10.10it/s]"
     ]
    },
    {
     "name": "stdout",
     "output_type": "stream",
     "text": [
      "learning_rate: 0.0002926584774450127\n"
     ]
    },
    {
     "name": "stderr",
     "output_type": "stream",
     "text": [
      "100%|██████████| 918/918 [01:27<00:00, 10.44it/s]\n",
      "100%|██████████| 230/230 [00:09<00:00, 25.49it/s]\n"
     ]
    },
    {
     "name": "stdout",
     "output_type": "stream",
     "text": [
      "[ Valid | 032/050 ] loss = 0.38456, acc = 0.90000\n"
     ]
    },
    {
     "name": "stderr",
     "output_type": "stream",
     "text": [
      "  0%|          | 3/918 [00:02<09:01,  1.69it/s]"
     ]
    },
    {
     "name": "stdout",
     "output_type": "stream",
     "text": [
      "learning_rate: 0.0002381677878453185\n"
     ]
    },
    {
     "name": "stderr",
     "output_type": "stream",
     "text": [
      "100%|██████████| 918/918 [01:26<00:00, 10.63it/s]\n",
      "100%|██████████| 230/230 [00:08<00:00, 26.59it/s]\n"
     ]
    },
    {
     "name": "stdout",
     "output_type": "stream",
     "text": [
      "[ Valid | 033/050 ] loss = 0.42307, acc = 0.89348\n"
     ]
    },
    {
     "name": "stderr",
     "output_type": "stream",
     "text": [
      "  0%|          | 3/918 [00:02<08:13,  1.85it/s]"
     ]
    },
    {
     "name": "stdout",
     "output_type": "stream",
     "text": [
      "learning_rate: 0.0001500000000014285\n"
     ]
    },
    {
     "name": "stderr",
     "output_type": "stream",
     "text": [
      " 55%|█████▍    | 503/918 [00:47<00:37, 11.20it/s]"
     ]
    },
    {
     "name": "stdout",
     "output_type": "stream",
     "text": [
      "learning_rate: 0.00014999999999959176\n"
     ]
    },
    {
     "name": "stderr",
     "output_type": "stream",
     "text": [
      "100%|██████████| 918/918 [01:24<00:00, 10.80it/s]\n",
      "100%|██████████| 230/230 [00:08<00:00, 27.55it/s]\n"
     ]
    },
    {
     "name": "stdout",
     "output_type": "stream",
     "text": [
      "[ Valid | 034/050 ] loss = 0.34737, acc = 0.90870\n"
     ]
    },
    {
     "name": "stderr",
     "output_type": "stream",
     "text": [
      "  0%|          | 3/918 [00:01<08:01,  1.90it/s]"
     ]
    },
    {
     "name": "stdout",
     "output_type": "stream",
     "text": [
      "learning_rate: 6.183221215627496e-05\n"
     ]
    },
    {
     "name": "stderr",
     "output_type": "stream",
     "text": [
      " 55%|█████▍    | 503/918 [00:47<00:37, 11.21it/s]"
     ]
    },
    {
     "name": "stdout",
     "output_type": "stream",
     "text": [
      "learning_rate: 6.183221215601576e-05\n"
     ]
    },
    {
     "name": "stderr",
     "output_type": "stream",
     "text": [
      "100%|██████████| 918/918 [01:25<00:00, 10.75it/s]\n",
      "100%|██████████| 230/230 [00:08<00:00, 27.14it/s]\n"
     ]
    },
    {
     "name": "stdout",
     "output_type": "stream",
     "text": [
      "[ Valid | 035/050 ] loss = 0.34421, acc = 0.90190\n"
     ]
    },
    {
     "name": "stderr",
     "output_type": "stream",
     "text": [
      "  0%|          | 3/918 [00:02<08:15,  1.85it/s]"
     ]
    },
    {
     "name": "stdout",
     "output_type": "stream",
     "text": [
      "learning_rate: 7.34152255572697e-06\n"
     ]
    },
    {
     "name": "stderr",
     "output_type": "stream",
     "text": [
      " 55%|█████▍    | 502/918 [00:48<00:37, 10.96it/s]"
     ]
    },
    {
     "name": "stdout",
     "output_type": "stream",
     "text": [
      "learning_rate: 7.34152255572697e-06\n"
     ]
    },
    {
     "name": "stderr",
     "output_type": "stream",
     "text": [
      "100%|██████████| 918/918 [01:26<00:00, 10.67it/s]\n",
      "100%|██████████| 230/230 [00:08<00:00, 26.24it/s]\n"
     ]
    },
    {
     "name": "stdout",
     "output_type": "stream",
     "text": [
      "[ Valid | 036/050 ] loss = 0.44180, acc = 0.88505\n"
     ]
    },
    {
     "name": "stderr",
     "output_type": "stream",
     "text": [
      "  0%|          | 2/918 [00:01<10:59,  1.39it/s]"
     ]
    },
    {
     "name": "stdout",
     "output_type": "stream",
     "text": [
      "learning_rate: 7.341522555740778e-06\n"
     ]
    },
    {
     "name": "stderr",
     "output_type": "stream",
     "text": [
      " 55%|█████▍    | 502/918 [00:47<00:37, 10.96it/s]"
     ]
    },
    {
     "name": "stdout",
     "output_type": "stream",
     "text": [
      "learning_rate: 7.341522555727503e-06\n"
     ]
    },
    {
     "name": "stderr",
     "output_type": "stream",
     "text": [
      "100%|██████████| 918/918 [01:25<00:00, 10.69it/s]\n",
      "100%|██████████| 230/230 [00:08<00:00, 26.38it/s]\n"
     ]
    },
    {
     "name": "stdout",
     "output_type": "stream",
     "text": [
      "[ Valid | 037/050 ] loss = 1.55395, acc = 0.65109\n"
     ]
    },
    {
     "name": "stderr",
     "output_type": "stream",
     "text": [
      "  0%|          | 3/918 [00:02<09:11,  1.66it/s]"
     ]
    },
    {
     "name": "stdout",
     "output_type": "stream",
     "text": [
      "learning_rate: 6.183221215656334e-05\n"
     ]
    },
    {
     "name": "stderr",
     "output_type": "stream",
     "text": [
      " 55%|█████▍    | 503/918 [00:48<00:37, 11.01it/s]"
     ]
    },
    {
     "name": "stdout",
     "output_type": "stream",
     "text": [
      "learning_rate: 6.183221215626926e-05\n"
     ]
    },
    {
     "name": "stderr",
     "output_type": "stream",
     "text": [
      "100%|██████████| 918/918 [01:26<00:00, 10.61it/s]\n",
      "100%|██████████| 230/230 [00:08<00:00, 27.07it/s]\n"
     ]
    },
    {
     "name": "stdout",
     "output_type": "stream",
     "text": [
      "[ Valid | 038/050 ] loss = 0.47340, acc = 0.87853\n"
     ]
    },
    {
     "name": "stderr",
     "output_type": "stream",
     "text": [
      "  0%|          | 2/918 [00:01<12:33,  1.22it/s]"
     ]
    },
    {
     "name": "stdout",
     "output_type": "stream",
     "text": [
      "learning_rate: 0.00014999999999956696\n"
     ]
    },
    {
     "name": "stderr",
     "output_type": "stream",
     "text": [
      " 55%|█████▍    | 502/918 [00:47<00:37, 11.09it/s]"
     ]
    },
    {
     "name": "stdout",
     "output_type": "stream",
     "text": [
      "learning_rate: 0.00015000000000113284\n"
     ]
    },
    {
     "name": "stderr",
     "output_type": "stream",
     "text": [
      " 84%|████████▍ | 770/918 [01:11<00:13, 10.61it/s]"
     ]
    }
   ],
   "source": [
    "best_acc = 0.0\n",
    "for epoch in range(n_epochs):\n",
    "    time.sleep(0.5)\n",
    "    model.train()\n",
    "    train_loss = []\n",
    "    train_acc = []\n",
    "    i = 0\n",
    "    # Iterate the training set by batches.\n",
    "    for batch in tqdm(train_iter):\n",
    "        time.sleep(0.05)\n",
    "        imgs, labels = batch\n",
    "        imgs = imgs.to(device)\n",
    "        labels = labels.to(device)\n",
    "        logits = model(imgs)\n",
    "        loss = criterion(logits, labels)\n",
    "        optimizer.zero_grad()\n",
    "        loss.backward()\n",
    "        optimizer.step()\n",
    "        scheduler.step()\n",
    "        if (i % 500 == 0):\n",
    "            print(\"learning_rate:\", scheduler.get_last_lr()[0])\n",
    "        i += 1\n",
    "        # print((logits.argmax(dim=1) == labels))\n",
    "        acc = (logits.argmax(dim=1) == labels).float().mean()\n",
    "        train_loss.append(loss.item())\n",
    "        train_acc.append(acc)\n",
    "    # The average loss and accuracy of the training set is the average of the recorded values.\n",
    "    train_loss = sum(train_loss) / len(train_loss)\n",
    "    train_acc = sum(train_acc) / len(train_acc)\n",
    "    model.eval()\n",
    "    # These are used to record information in validation.\n",
    "    valid_loss = []\n",
    "    valid_accs = []\n",
    "    for batch in tqdm(val_iter):\n",
    "        imgs, labels = batch\n",
    "        # We don't need gradient in validation.\n",
    "        # Using torch.no_grad() accelerates the forward process.\n",
    "        with torch.no_grad():\n",
    "            logits = model(imgs.to(device))\n",
    "\n",
    "        # We can still compute the loss (but not the gradient).\n",
    "        loss = criterion(logits, labels.to(device))\n",
    "\n",
    "        # Compute the accuracy for current batch.\n",
    "        acc = (logits.argmax(dim=-1) == labels.to(device)).float().mean()\n",
    "\n",
    "        # Record the loss and accuracy.\n",
    "        valid_loss.append(loss.item())\n",
    "        valid_accs.append(acc)\n",
    "        #     # The average loss and accuracy for entire validation set is the average of the recorded values.\n",
    "    valid_loss = sum(valid_loss) / len(valid_loss)\n",
    "    valid_acc = sum(valid_accs) / len(valid_accs)\n",
    "    # Print the information.\n",
    "    print(f\"[ Valid | {epoch + 1:03d}/{n_epochs:03d} ] loss = {valid_loss:.5f}, acc = {valid_acc:.5f}\")\n",
    "    if valid_acc > best_acc:\n",
    "        best_acc = valid_acc\n",
    "        torch.save(model.state_dict(), model_path)\n",
    "        print('saving model with acc {:.3f}'.format(best_acc))"
   ]
  },
  {
   "cell_type": "code",
   "execution_count": 2,
   "id": "041d8769-0c08-4582-9d09-1f43eca80222",
   "metadata": {
    "execution": {
     "iopub.execute_input": "2022-05-23T14:15:33.634704Z",
     "iopub.status.busy": "2022-05-23T14:15:33.634089Z",
     "iopub.status.idle": "2022-05-23T14:15:33.640265Z",
     "shell.execute_reply": "2022-05-23T14:15:33.639265Z",
     "shell.execute_reply.started": "2022-05-23T14:15:33.634649Z"
    }
   },
   "outputs": [],
   "source": [
    "saveFileName = './dataset/classify_leaves/submission.csv'"
   ]
  },
  {
   "cell_type": "code",
   "execution_count": 33,
   "id": "674f693d-eae8-465d-84dd-50261be0ed0f",
   "metadata": {
    "execution": {
     "iopub.execute_input": "2022-05-23T14:44:08.895917Z",
     "iopub.status.busy": "2022-05-23T14:44:08.895305Z",
     "iopub.status.idle": "2022-05-23T14:45:03.454932Z",
     "shell.execute_reply": "2022-05-23T14:45:03.453893Z",
     "shell.execute_reply.started": "2022-05-23T14:44:08.895863Z"
    },
    "tags": []
   },
   "outputs": [
    {
     "name": "stderr",
     "output_type": "stream",
     "text": [
      "100%|██████████| 550/550 [00:51<00:00, 10.63it/s]\n"
     ]
    }
   ],
   "source": [
    "device='cuda'\n",
    "model = resnext_model(176)\n",
    "model = model.to(device)\n",
    "model.load_state_dict(torch.load(model_path))\n",
    "model.eval()  #batchnormize用全局的batch算\n",
    "preds = []\n",
    "for batch in tqdm(test_iter):\n",
    "    imgs = batch\n",
    "    imgs = imgs.to(device)\n",
    "    with torch.no_grad():\n",
    "        logits = model(imgs)\n",
    "    preds.extend(logits.argmax(dim=-1).cpu().numpy().tolist())\n",
    "res=[num_to_cls[i] for i in preds]\n",
    "test_data=pd.read_csv(test_path)\n",
    "test_data['label']=pd.Series(res)\n",
    "submission=pd.concat([test_data['image'],test_data['label']],axis=1)\n",
    "submission.to_csv(saveFileName,index=False)"
   ]
  },
  {
   "cell_type": "code",
   "execution_count": null,
   "id": "980034b0-b53c-49fa-9aec-9b9e34b5b9a3",
   "metadata": {},
   "outputs": [],
   "source": []
  }
 ],
 "metadata": {
  "kernelspec": {
   "display_name": "PyTorch 1.8",
   "language": "python",
   "name": "torch1.8"
  },
  "language_info": {
   "codemirror_mode": {
    "name": "ipython",
    "version": 3
   },
   "file_extension": ".py",
   "mimetype": "text/x-python",
   "name": "python",
   "nbconvert_exporter": "python",
   "pygments_lexer": "ipython3",
   "version": "3.9.7"
  }
 },
 "nbformat": 4,
 "nbformat_minor": 5
}
